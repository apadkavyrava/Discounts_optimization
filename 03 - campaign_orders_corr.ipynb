{
 "cells": [
  {
   "cell_type": "code",
   "execution_count": 140,
   "id": "5ea66bc7",
   "metadata": {},
   "outputs": [],
   "source": [
    "import pandas as pd\n",
    "import numpy as np\n",
    "import seaborn as sns\n",
    "import matplotlib.pyplot as plt"
   ]
  },
  {
   "cell_type": "code",
   "execution_count": 141,
   "id": "03e62f0a",
   "metadata": {},
   "outputs": [],
   "source": [
    "emails_sent_raw = pd.read_csv('Data/emails_sent.csv')"
   ]
  },
  {
   "cell_type": "code",
   "execution_count": 142,
   "id": "3d730670",
   "metadata": {},
   "outputs": [],
   "source": [
    "emails_sent_raw.columns = emails_sent_raw.columns.str.lower()\n",
    "emails_sent_raw['sent_at'] = pd.to_datetime(emails_sent_raw['sent_at']).dt.tz_localize(None).dt.date\n",
    "emails_sent_raw = emails_sent_raw.fillna(0)"
   ]
  },
  {
   "cell_type": "code",
   "execution_count": 143,
   "id": "363ba48d",
   "metadata": {},
   "outputs": [
    {
     "data": {
      "text/html": [
       "<div>\n",
       "<style scoped>\n",
       "    .dataframe tbody tr th:only-of-type {\n",
       "        vertical-align: middle;\n",
       "    }\n",
       "\n",
       "    .dataframe tbody tr th {\n",
       "        vertical-align: top;\n",
       "    }\n",
       "\n",
       "    .dataframe thead th {\n",
       "        text-align: right;\n",
       "    }\n",
       "</style>\n",
       "<table border=\"1\" class=\"dataframe\">\n",
       "  <thead>\n",
       "    <tr style=\"text-align: right;\">\n",
       "      <th></th>\n",
       "      <th>user_id</th>\n",
       "      <th>campaign_id</th>\n",
       "      <th>variation_name</th>\n",
       "      <th>sent_at</th>\n",
       "      <th>opened_email</th>\n",
       "    </tr>\n",
       "  </thead>\n",
       "  <tbody>\n",
       "    <tr>\n",
       "      <th>0</th>\n",
       "      <td>2084572</td>\n",
       "      <td>55e05c6619f3b0b58685269d0fbb56c9</td>\n",
       "      <td>Original</td>\n",
       "      <td>2020-02-17</td>\n",
       "      <td>True</td>\n",
       "    </tr>\n",
       "    <tr>\n",
       "      <th>1</th>\n",
       "      <td>2084572</td>\n",
       "      <td>acf16f627094695a3bb33e7546c36df9</td>\n",
       "      <td>Joyful shot- YESPLEASE</td>\n",
       "      <td>2020-02-16</td>\n",
       "      <td>0</td>\n",
       "    </tr>\n",
       "    <tr>\n",
       "      <th>2</th>\n",
       "      <td>2084572</td>\n",
       "      <td>1daa83a96adf94499d57c8a0bd20d428</td>\n",
       "      <td>offer displayed</td>\n",
       "      <td>2020-02-17</td>\n",
       "      <td>0</td>\n",
       "    </tr>\n",
       "    <tr>\n",
       "      <th>3</th>\n",
       "      <td>2084572</td>\n",
       "      <td>cc2c741c0cfbde4c6f43231c4f53a767</td>\n",
       "      <td>Original</td>\n",
       "      <td>2020-02-17</td>\n",
       "      <td>True</td>\n",
       "    </tr>\n",
       "    <tr>\n",
       "      <th>4</th>\n",
       "      <td>2084572</td>\n",
       "      <td>f8519c3e9219cc5f8f762fddda8d3f22</td>\n",
       "      <td>Original</td>\n",
       "      <td>2020-02-18</td>\n",
       "      <td>True</td>\n",
       "    </tr>\n",
       "    <tr>\n",
       "      <th>5</th>\n",
       "      <td>2084572</td>\n",
       "      <td>19c4d97feb334920a000b5acdb5cb7b9</td>\n",
       "      <td>[No name for this variation]</td>\n",
       "      <td>2020-06-23</td>\n",
       "      <td>0</td>\n",
       "    </tr>\n",
       "    <tr>\n",
       "      <th>6</th>\n",
       "      <td>2084572</td>\n",
       "      <td>6b4a1dcdba884f8746f345bd054f6257</td>\n",
       "      <td>CI 2019 MentionMe</td>\n",
       "      <td>2020-02-24</td>\n",
       "      <td>True</td>\n",
       "    </tr>\n",
       "  </tbody>\n",
       "</table>\n",
       "</div>"
      ],
      "text/plain": [
       "   user_id                       campaign_id                variation_name  \\\n",
       "0  2084572  55e05c6619f3b0b58685269d0fbb56c9                      Original   \n",
       "1  2084572  acf16f627094695a3bb33e7546c36df9        Joyful shot- YESPLEASE   \n",
       "2  2084572  1daa83a96adf94499d57c8a0bd20d428               offer displayed   \n",
       "3  2084572  cc2c741c0cfbde4c6f43231c4f53a767                      Original   \n",
       "4  2084572  f8519c3e9219cc5f8f762fddda8d3f22                      Original   \n",
       "5  2084572  19c4d97feb334920a000b5acdb5cb7b9  [No name for this variation]   \n",
       "6  2084572  6b4a1dcdba884f8746f345bd054f6257             CI 2019 MentionMe   \n",
       "\n",
       "      sent_at opened_email  \n",
       "0  2020-02-17         True  \n",
       "1  2020-02-16            0  \n",
       "2  2020-02-17            0  \n",
       "3  2020-02-17         True  \n",
       "4  2020-02-18         True  \n",
       "5  2020-06-23            0  \n",
       "6  2020-02-24         True  "
      ]
     },
     "execution_count": 143,
     "metadata": {},
     "output_type": "execute_result"
    }
   ],
   "source": [
    "emails_sent_raw.head(7)"
   ]
  },
  {
   "cell_type": "code",
   "execution_count": 144,
   "id": "c62c4ce7",
   "metadata": {},
   "outputs": [],
   "source": [
    "camp_days = pd.DataFrame(emails_sent_raw.groupby('sent_at').user_id.nunique().rename('users_received')).reset_index()\n",
    "\n",
    "camp_days = (camp_days.merge(emails_sent_raw.groupby('sent_at').campaign_id.nunique().rename('campaign_type')\n",
    "                            , on = 'sent_at', how = 'left' ))\n",
    "\n",
    "emails_sent_raw['opened_email'] = np.where(emails_sent_raw['opened_email'] == 0, 'not_opened', 'opened')\n",
    "\n",
    "read = (pd.DataFrame(emails_sent_raw.groupby(['sent_at', 'opened_email']).opened_email.count().rename('val')\n",
    "                     .reset_index()).pivot(index = 'sent_at', columns = 'opened_email', values = 'val')\n",
    "                    .fillna(0).reset_index())\n",
    "\n",
    "camp_days = camp_days.merge(read, on = 'sent_at', how = 'left')  \n",
    "camp_days = camp_days.merge(emails_sent_raw.groupby('sent_at').campaign_id.count().rename('camp_volume')\n",
    "                            , on = 'sent_at', how = 'left')"
   ]
  },
  {
   "cell_type": "code",
   "execution_count": 145,
   "id": "f3f49b21",
   "metadata": {},
   "outputs": [],
   "source": [
    "orders = pd.read_csv('Data/orders_days.csv')\n",
    "orders['created_at'] = pd.to_datetime(orders['created_at'])"
   ]
  },
  {
   "cell_type": "code",
   "execution_count": 146,
   "id": "0e3e457e",
   "metadata": {},
   "outputs": [],
   "source": [
    "def crosscorr(datax, datay, lag=0):\n",
    "    return datax.corr(datay.shift(lag))"
   ]
  },
  {
   "cell_type": "code",
   "execution_count": 147,
   "id": "d7e98677",
   "metadata": {},
   "outputs": [
    {
     "data": {
      "text/plain": [
       "[<matplotlib.lines.Line2D at 0x7fd925ebc460>]"
      ]
     },
     "execution_count": 147,
     "metadata": {},
     "output_type": "execute_result"
    },
    {
     "data": {
      "image/png": "[encoded data removed]",
      "text/plain": [
       "<Figure size 432x288 with 1 Axes>"
      ]
     },
     "metadata": {
      "needs_background": "light"
     },
     "output_type": "display_data"
    }
   ],
   "source": [
    "xcov_daily = [crosscorr(orders.new_users, camp_days.camp_volume, lag=i) for i in range(25)]\n",
    "plt.plot(xcov_daily)"
   ]
  },
  {
   "cell_type": "code",
   "execution_count": 148,
   "id": "088aabb5",
   "metadata": {},
   "outputs": [
    {
     "data": {
      "text/plain": [
       "[<matplotlib.lines.Line2D at 0x7fd985c13910>]"
      ]
     },
     "execution_count": 148,
     "metadata": {},
     "output_type": "execute_result"
    },
    {
     "data": {
      "image/png": "[encoded data removed]",
      "text/plain": [
       "<Figure size 432x288 with 1 Axes>"
      ]
     },
     "metadata": {
      "needs_background": "light"
     },
     "output_type": "display_data"
    }
   ],
   "source": [
    "xcov_daily = [crosscorr(orders.users, camp_days.users_received, lag=i) for i in range(25)]\n",
    "plt.plot(xcov_daily)\n"
   ]
  },
  {
   "cell_type": "markdown",
   "id": "c0ebbf01",
   "metadata": {},
   "source": [
    "1, 8, 16 days"
   ]
  },
  {
   "cell_type": "code",
   "execution_count": 149,
   "id": "cd7e9cc3",
   "metadata": {},
   "outputs": [],
   "source": [
    "corr_days = [1, 8, 16]\n",
    "\n",
    "for i in corr_days:\n",
    "    camp_days['camp_day'] = camp_days.sent_at + pd.DateOffset(days = i)\n",
    "    temp = camp_days.drop('sent_at', axis =1)\n",
    "    temp.columns = temp.columns + '_' + str(i)\n",
    "    orders = orders.merge(temp, left_on = 'created_at', right_on = 'camp_day' + '_' + str(i), how = 'left')\n",
    "  "
   ]
  },
  {
   "cell_type": "code",
   "execution_count": 150,
   "id": "75c9d5dd",
   "metadata": {},
   "outputs": [],
   "source": [
    "disc3 = 1\n",
    "disc4 = 2, 12\n",
    "disc5 = 1, 13"
   ]
  },
  {
   "cell_type": "code",
   "execution_count": 151,
   "id": "44a759af",
   "metadata": {},
   "outputs": [],
   "source": [
    "orders['disc1_pre_3days'] = orders.sort_values('created_at').disc1.shift(1).rolling(3).sum()\n",
    "orders['disc1_pre_6day'] = orders.sort_values('created_at').disc1.shift(6)\n",
    "orders['disc1_pre_14dat'] = orders.sort_values('created_at').disc1.shift(14)\n",
    "\n",
    "orders['disc2_pre_4days'] = orders.sort_values('created_at').disc2.shift(1).rolling(4).sum()\n",
    "orders['disc2_pre_7day'] = orders.sort_values('created_at').disc2.shift(7)\n",
    "orders['disc2_pre_14day'] = orders.sort_values('created_at').disc2.shift(14)\n",
    "\n",
    "orders['disc3_pre_1day'] = orders.sort_values('created_at').disc3.shift(1)\n",
    "\n",
    "orders['disc4_pre_2day'] = orders.sort_values('created_at').disc4.shift(2)\n",
    "orders['disc5_pre_1day'] = orders.sort_values('created_at').disc5.shift(1)\n",
    "orders['disc5_pre_13day'] = orders.sort_values('created_at').disc5.shift(13)\n",
    "\n",
    "other_features = ['products', 'new_users', 'volume', 'full_revenue']\n",
    "\n",
    "for i in other_features:\n",
    "    orders[str(i)+'_pre_3days'] = orders.sort_values('created_at')[i].shift(1).rolling(3).sum()\n",
    "    orders[str(i)+'_pre_7day'] = orders.sort_values('created_at')[i].shift(7)\n",
    "    orders[str(i)+'_pre_14day'] = orders.sort_values('created_at')[i].shift(14)\n",
    "\n"
   ]
  },
  {
   "cell_type": "code",
   "execution_count": 152,
   "id": "dd903186",
   "metadata": {},
   "outputs": [],
   "source": [
    "orders['year'] = orders['created_at'].dt.year\n",
    "orders['month'] = orders['created_at'].dt.month"
   ]
  },
  {
   "cell_type": "code",
   "execution_count": 172,
   "id": "946b2eea",
   "metadata": {},
   "outputs": [],
   "source": [
    "orders['users'] = orders['users'] - orders['new_users']"
   ]
  },
  {
   "cell_type": "code",
   "execution_count": 173,
   "id": "a9b1f7b9",
   "metadata": {},
   "outputs": [],
   "source": [
    "orders =  orders.iloc[14:]\n",
    "orders = orders.fillna(0)\n",
    "orders = (orders[((orders['campaign_type_1'] != 0) |\n",
    "                 (orders['campaign_type_8'] != 0) | (orders['campaign_type_16'] != 0))])"
   ]
  },
  {
   "cell_type": "code",
   "execution_count": 174,
   "id": "fbad2d6b",
   "metadata": {},
   "outputs": [
    {
     "data": {
      "text/plain": [
       "Index(['Unnamed: 0', 'created_at', 'volume', 'revenue', 'full_revenue',\n",
       "       'disc1', 'disc2', 'disc3', 'disc4', 'disc5', 'Magento', 'Mobile',\n",
       "       'Website', 'import', 'products', 'users', 'new_users',\n",
       "       'users_received_1', 'campaign_type_1', 'not_opened_1', 'opened_1',\n",
       "       'camp_volume_1', 'camp_day_1', 'users_received_8', 'campaign_type_8',\n",
       "       'not_opened_8', 'opened_8', 'camp_volume_8', 'camp_day_8',\n",
       "       'users_received_16', 'campaign_type_16', 'not_opened_16', 'opened_16',\n",
       "       'camp_volume_16', 'camp_day_16', 'disc1_pre_3days', 'disc1_pre_6day',\n",
       "       'disc1_pre_14dat', 'disc2_pre_4days', 'disc2_pre_7day',\n",
       "       'disc2_pre_14day', 'disc3_pre_1day', 'disc4_pre_2day', 'disc5_pre_1day',\n",
       "       'disc5_pre_13day', 'products_pre_3days', 'products_pre_7day',\n",
       "       'products_pre_14day', 'new_users_pre_3days', 'new_users_pre_7day',\n",
       "       'new_users_pre_14day', 'volume_pre_3days', 'volume_pre_7day',\n",
       "       'volume_pre_14day', 'full_revenue_pre_3days', 'full_revenue_pre_7day',\n",
       "       'full_revenue_pre_14day', 'year', 'month'],\n",
       "      dtype='object')"
      ]
     },
     "execution_count": 174,
     "metadata": {},
     "output_type": "execute_result"
    }
   ],
   "source": [
    "orders.columns"
   ]
  },
  {
   "cell_type": "code",
   "execution_count": 178,
   "id": "c4f66436",
   "metadata": {},
   "outputs": [],
   "source": [
    "user_dataset = orders.drop(columns = {'Unnamed: 0'\n",
    "                                        , 'created_at'\n",
    "                                        , 'volume'\n",
    "                                        , 'revenue'\n",
    "                                        , 'full_revenue'\n",
    "                                        , 'disc1'\n",
    "                                        , 'disc2'\n",
    "                                        , 'disc3'\n",
    "                                        , 'disc4'\n",
    "                                        , 'disc5'\n",
    "                                        , 'Magento'\n",
    "                                        , 'Mobile'\n",
    "                                        , 'Website'\n",
    "                                        , 'import'\n",
    "                                        , 'products'\n",
    "                                        , 'new_users'\n",
    "                                        , 'camp_day_1'\n",
    "                                        , 'camp_day_8'\n",
    "                                        , 'camp_day_16'\n",
    "                                        , 'not_opened_1'\n",
    "                                        , 'not_opened_8'\n",
    "                                        , 'not_opened_16'}, axis = 1).fillna(0)"
   ]
  },
  {
   "cell_type": "code",
   "execution_count": 179,
   "id": "a9de5ae4",
   "metadata": {},
   "outputs": [],
   "source": [
    "user_dataset.to_csv('Data/user_dataset.csv')"
   ]
  },
  {
   "cell_type": "code",
   "execution_count": 180,
   "id": "184a4245",
   "metadata": {},
   "outputs": [],
   "source": [
    "data_grid_dataset = orders.drop(columns = {'Unnamed: 0'\n",
    "                                        , 'revenue'\n",
    "                                        , 'full_revenue'\n",
    "                                        , 'Magento'\n",
    "                                        , 'Mobile'\n",
    "                                        , 'Website'\n",
    "                                        , 'import'\n",
    "                                        , 'products'\n",
    "                                        , 'new_users'\n",
    "                                        , 'camp_day_1'\n",
    "                                        , 'camp_day_8'\n",
    "                                        , 'camp_day_16'\n",
    "                                        , 'not_opened_1'\n",
    "                                        , 'not_opened_8'\n",
    "                                        , 'not_opened_16'}, axis = 1).fillna(0)"
   ]
  },
  {
   "cell_type": "code",
   "execution_count": 181,
   "id": "9403ebd4",
   "metadata": {},
   "outputs": [],
   "source": [
    "data_grid_dataset.to_csv('Data/data_grid_dataset.csv')"
   ]
  },
  {
   "cell_type": "code",
   "execution_count": null,
   "id": "d6c0b65a",
   "metadata": {},
   "outputs": [],
   "source": []
  }
 ],
 "metadata": {
  "kernelspec": {
   "display_name": "Python 3 (ipykernel)",
   "language": "python",
   "name": "python3"
  },
  "language_info": {
   "codemirror_mode": {
    "name": "ipython",
    "version": 3
   },
   "file_extension": ".py",
   "mimetype": "text/x-python",
   "name": "python",
   "nbconvert_exporter": "python",
   "pygments_lexer": "ipython3",
   "version": "3.9.7"
  }
 },
 "nbformat": 4,
 "nbformat_minor": 5
}
