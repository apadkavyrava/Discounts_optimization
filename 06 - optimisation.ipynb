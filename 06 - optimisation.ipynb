{
 "cells": [
  {
   "cell_type": "code",
   "execution_count": 6,
   "id": "576af6d8",
   "metadata": {},
   "outputs": [],
   "source": [
    "import pickle\n",
    "import pandas as pd\n"
   ]
  },
  {
   "cell_type": "code",
   "execution_count": 7,
   "id": "7e077046",
   "metadata": {},
   "outputs": [],
   "source": [
    "model = pickle.load(open('Models/User_pred.pkl', 'rb'))\n"
   ]
  },
  {
   "cell_type": "code",
   "execution_count": 8,
   "id": "b538e6f1",
   "metadata": {},
   "outputs": [],
   "source": [
    "users_prediction = {}\n",
    "\n",
    "for i in range(180):\n",
    "    price_opt_data = pd.read_csv('Data/opt_price' + str(i) + '.csv')\n",
    "    users_features = price_opt_data.drop(['Unnamed: 0', 'grid_id'], axis = 1).fillna(0)\n",
    "    users_vol = model.predict(users_features).mean()\n",
    "    users_prediction[str(i)] = users_vol"
   ]
  },
  {
   "cell_type": "code",
   "execution_count": 9,
   "id": "1f48a910",
   "metadata": {},
   "outputs": [],
   "source": [
    "opt = pd.DataFrame(list(sorted(users_prediction.items(), key=lambda x:x[1], reverse=True)))\n",
    "opt.to_csv('Data/opt.csv')"
   ]
  },
  {
   "cell_type": "code",
   "execution_count": null,
   "id": "ec5f9d2d",
   "metadata": {},
   "outputs": [],
   "source": []
  }
 ],
 "metadata": {
  "kernelspec": {
   "display_name": "Python 3 (ipykernel)",
   "language": "python",
   "name": "python3"
  },
  "language_info": {
   "codemirror_mode": {
    "name": "ipython",
    "version": 3
   },
   "file_extension": ".py",
   "mimetype": "text/x-python",
   "name": "python",
   "nbconvert_exporter": "python",
   "pygments_lexer": "ipython3",
   "version": "3.9.7"
  }
 },
 "nbformat": 4,
 "nbformat_minor": 5
}
