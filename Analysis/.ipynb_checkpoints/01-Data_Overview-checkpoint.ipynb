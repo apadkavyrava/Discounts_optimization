{
 "cells": [
  {
   "cell_type": "markdown",
   "id": "5cb699f3",
   "metadata": {},
   "source": [
    "###   Random analysis - I got familiar with data: connections between tables, clarity, quality and quantity of data"
   ]
  },
  {
   "cell_type": "code",
   "execution_count": 2,
   "id": "3fd59ddf",
   "metadata": {},
   "outputs": [
    {
     "name": "stderr",
     "output_type": "stream",
     "text": [
      "/Users/anna/opt/anaconda3/lib/python3.9/site-packages/scipy/__init__.py:146: UserWarning: A NumPy version >=1.16.5 and <1.23.0 is required for this version of SciPy (detected version 1.26.4\n",
      "  warnings.warn(f\"A NumPy version >={np_minversion} and <{np_maxversion}\"\n"
     ]
    }
   ],
   "source": [
    "#  importing parckages\n",
    "\n",
    "import pandas as pd\n",
    "import numpy as np\n",
    "import seaborn as sns"
   ]
  },
  {
   "cell_type": "markdown",
   "id": "518c4f58",
   "metadata": {},
   "source": [
    "#### Users"
   ]
  },
  {
   "cell_type": "code",
   "execution_count": 4,
   "id": "f8185c76",
   "metadata": {},
   "outputs": [
    {
     "ename": "FileNotFoundError",
     "evalue": "[Errno 2] No such file or directory: 'Discount_optimisation/Data/users.csv'",
     "output_type": "error",
     "traceback": [
      "\u001b[0;31m---------------------------------------------------------------------------\u001b[0m",
      "\u001b[0;31mFileNotFoundError\u001b[0m                         Traceback (most recent call last)",
      "\u001b[0;32m/var/folders/9t/5gcr47m91839pxy0fm6mhjw00000gn/T/ipykernel_97165/3411311471.py\u001b[0m in \u001b[0;36m<module>\u001b[0;34m\u001b[0m\n\u001b[0;32m----> 1\u001b[0;31m \u001b[0musers_raw\u001b[0m \u001b[0;34m=\u001b[0m \u001b[0mpd\u001b[0m\u001b[0;34m.\u001b[0m\u001b[0mread_csv\u001b[0m\u001b[0;34m(\u001b[0m\u001b[0;34m'Discount_optimisation/Data/users.csv'\u001b[0m\u001b[0;34m)\u001b[0m\u001b[0;34m\u001b[0m\u001b[0;34m\u001b[0m\u001b[0m\n\u001b[0m",
      "\u001b[0;32m~/opt/anaconda3/lib/python3.9/site-packages/pandas/util/_decorators.py\u001b[0m in \u001b[0;36mwrapper\u001b[0;34m(*args, **kwargs)\u001b[0m\n\u001b[1;32m    309\u001b[0m                     \u001b[0mstacklevel\u001b[0m\u001b[0;34m=\u001b[0m\u001b[0mstacklevel\u001b[0m\u001b[0;34m,\u001b[0m\u001b[0;34m\u001b[0m\u001b[0;34m\u001b[0m\u001b[0m\n\u001b[1;32m    310\u001b[0m                 )\n\u001b[0;32m--> 311\u001b[0;31m             \u001b[0;32mreturn\u001b[0m \u001b[0mfunc\u001b[0m\u001b[0;34m(\u001b[0m\u001b[0;34m*\u001b[0m\u001b[0margs\u001b[0m\u001b[0;34m,\u001b[0m \u001b[0;34m**\u001b[0m\u001b[0mkwargs\u001b[0m\u001b[0;34m)\u001b[0m\u001b[0;34m\u001b[0m\u001b[0;34m\u001b[0m\u001b[0m\n\u001b[0m\u001b[1;32m    312\u001b[0m \u001b[0;34m\u001b[0m\u001b[0m\n\u001b[1;32m    313\u001b[0m         \u001b[0;32mreturn\u001b[0m \u001b[0mwrapper\u001b[0m\u001b[0;34m\u001b[0m\u001b[0;34m\u001b[0m\u001b[0m\n",
      "\u001b[0;32m~/opt/anaconda3/lib/python3.9/site-packages/pandas/io/parsers/readers.py\u001b[0m in \u001b[0;36mread_csv\u001b[0;34m(filepath_or_buffer, sep, delimiter, header, names, index_col, usecols, squeeze, prefix, mangle_dupe_cols, dtype, engine, converters, true_values, false_values, skipinitialspace, skiprows, skipfooter, nrows, na_values, keep_default_na, na_filter, verbose, skip_blank_lines, parse_dates, infer_datetime_format, keep_date_col, date_parser, dayfirst, cache_dates, iterator, chunksize, compression, thousands, decimal, lineterminator, quotechar, quoting, doublequote, escapechar, comment, encoding, encoding_errors, dialect, error_bad_lines, warn_bad_lines, on_bad_lines, delim_whitespace, low_memory, memory_map, float_precision, storage_options)\u001b[0m\n\u001b[1;32m    584\u001b[0m     \u001b[0mkwds\u001b[0m\u001b[0;34m.\u001b[0m\u001b[0mupdate\u001b[0m\u001b[0;34m(\u001b[0m\u001b[0mkwds_defaults\u001b[0m\u001b[0;34m)\u001b[0m\u001b[0;34m\u001b[0m\u001b[0;34m\u001b[0m\u001b[0m\n\u001b[1;32m    585\u001b[0m \u001b[0;34m\u001b[0m\u001b[0m\n\u001b[0;32m--> 586\u001b[0;31m     \u001b[0;32mreturn\u001b[0m \u001b[0m_read\u001b[0m\u001b[0;34m(\u001b[0m\u001b[0mfilepath_or_buffer\u001b[0m\u001b[0;34m,\u001b[0m \u001b[0mkwds\u001b[0m\u001b[0;34m)\u001b[0m\u001b[0;34m\u001b[0m\u001b[0;34m\u001b[0m\u001b[0m\n\u001b[0m\u001b[1;32m    587\u001b[0m \u001b[0;34m\u001b[0m\u001b[0m\n\u001b[1;32m    588\u001b[0m \u001b[0;34m\u001b[0m\u001b[0m\n",
      "\u001b[0;32m~/opt/anaconda3/lib/python3.9/site-packages/pandas/io/parsers/readers.py\u001b[0m in \u001b[0;36m_read\u001b[0;34m(filepath_or_buffer, kwds)\u001b[0m\n\u001b[1;32m    480\u001b[0m \u001b[0;34m\u001b[0m\u001b[0m\n\u001b[1;32m    481\u001b[0m     \u001b[0;31m# Create the parser.\u001b[0m\u001b[0;34m\u001b[0m\u001b[0;34m\u001b[0m\u001b[0m\n\u001b[0;32m--> 482\u001b[0;31m     \u001b[0mparser\u001b[0m \u001b[0;34m=\u001b[0m \u001b[0mTextFileReader\u001b[0m\u001b[0;34m(\u001b[0m\u001b[0mfilepath_or_buffer\u001b[0m\u001b[0;34m,\u001b[0m \u001b[0;34m**\u001b[0m\u001b[0mkwds\u001b[0m\u001b[0;34m)\u001b[0m\u001b[0;34m\u001b[0m\u001b[0;34m\u001b[0m\u001b[0m\n\u001b[0m\u001b[1;32m    483\u001b[0m \u001b[0;34m\u001b[0m\u001b[0m\n\u001b[1;32m    484\u001b[0m     \u001b[0;32mif\u001b[0m \u001b[0mchunksize\u001b[0m \u001b[0;32mor\u001b[0m \u001b[0miterator\u001b[0m\u001b[0;34m:\u001b[0m\u001b[0;34m\u001b[0m\u001b[0;34m\u001b[0m\u001b[0m\n",
      "\u001b[0;32m~/opt/anaconda3/lib/python3.9/site-packages/pandas/io/parsers/readers.py\u001b[0m in \u001b[0;36m__init__\u001b[0;34m(self, f, engine, **kwds)\u001b[0m\n\u001b[1;32m    809\u001b[0m             \u001b[0mself\u001b[0m\u001b[0;34m.\u001b[0m\u001b[0moptions\u001b[0m\u001b[0;34m[\u001b[0m\u001b[0;34m\"has_index_names\"\u001b[0m\u001b[0;34m]\u001b[0m \u001b[0;34m=\u001b[0m \u001b[0mkwds\u001b[0m\u001b[0;34m[\u001b[0m\u001b[0;34m\"has_index_names\"\u001b[0m\u001b[0;34m]\u001b[0m\u001b[0;34m\u001b[0m\u001b[0;34m\u001b[0m\u001b[0m\n\u001b[1;32m    810\u001b[0m \u001b[0;34m\u001b[0m\u001b[0m\n\u001b[0;32m--> 811\u001b[0;31m         \u001b[0mself\u001b[0m\u001b[0;34m.\u001b[0m\u001b[0m_engine\u001b[0m \u001b[0;34m=\u001b[0m \u001b[0mself\u001b[0m\u001b[0;34m.\u001b[0m\u001b[0m_make_engine\u001b[0m\u001b[0;34m(\u001b[0m\u001b[0mself\u001b[0m\u001b[0;34m.\u001b[0m\u001b[0mengine\u001b[0m\u001b[0;34m)\u001b[0m\u001b[0;34m\u001b[0m\u001b[0;34m\u001b[0m\u001b[0m\n\u001b[0m\u001b[1;32m    812\u001b[0m \u001b[0;34m\u001b[0m\u001b[0m\n\u001b[1;32m    813\u001b[0m     \u001b[0;32mdef\u001b[0m \u001b[0mclose\u001b[0m\u001b[0;34m(\u001b[0m\u001b[0mself\u001b[0m\u001b[0;34m)\u001b[0m\u001b[0;34m:\u001b[0m\u001b[0;34m\u001b[0m\u001b[0;34m\u001b[0m\u001b[0m\n",
      "\u001b[0;32m~/opt/anaconda3/lib/python3.9/site-packages/pandas/io/parsers/readers.py\u001b[0m in \u001b[0;36m_make_engine\u001b[0;34m(self, engine)\u001b[0m\n\u001b[1;32m   1038\u001b[0m             )\n\u001b[1;32m   1039\u001b[0m         \u001b[0;31m# error: Too many arguments for \"ParserBase\"\u001b[0m\u001b[0;34m\u001b[0m\u001b[0;34m\u001b[0m\u001b[0m\n\u001b[0;32m-> 1040\u001b[0;31m         \u001b[0;32mreturn\u001b[0m \u001b[0mmapping\u001b[0m\u001b[0;34m[\u001b[0m\u001b[0mengine\u001b[0m\u001b[0;34m]\u001b[0m\u001b[0;34m(\u001b[0m\u001b[0mself\u001b[0m\u001b[0;34m.\u001b[0m\u001b[0mf\u001b[0m\u001b[0;34m,\u001b[0m \u001b[0;34m**\u001b[0m\u001b[0mself\u001b[0m\u001b[0;34m.\u001b[0m\u001b[0moptions\u001b[0m\u001b[0;34m)\u001b[0m  \u001b[0;31m# type: ignore[call-arg]\u001b[0m\u001b[0;34m\u001b[0m\u001b[0;34m\u001b[0m\u001b[0m\n\u001b[0m\u001b[1;32m   1041\u001b[0m \u001b[0;34m\u001b[0m\u001b[0m\n\u001b[1;32m   1042\u001b[0m     \u001b[0;32mdef\u001b[0m \u001b[0m_failover_to_python\u001b[0m\u001b[0;34m(\u001b[0m\u001b[0mself\u001b[0m\u001b[0;34m)\u001b[0m\u001b[0;34m:\u001b[0m\u001b[0;34m\u001b[0m\u001b[0;34m\u001b[0m\u001b[0m\n",
      "\u001b[0;32m~/opt/anaconda3/lib/python3.9/site-packages/pandas/io/parsers/c_parser_wrapper.py\u001b[0m in \u001b[0;36m__init__\u001b[0;34m(self, src, **kwds)\u001b[0m\n\u001b[1;32m     49\u001b[0m \u001b[0;34m\u001b[0m\u001b[0m\n\u001b[1;32m     50\u001b[0m         \u001b[0;31m# open handles\u001b[0m\u001b[0;34m\u001b[0m\u001b[0;34m\u001b[0m\u001b[0m\n\u001b[0;32m---> 51\u001b[0;31m         \u001b[0mself\u001b[0m\u001b[0;34m.\u001b[0m\u001b[0m_open_handles\u001b[0m\u001b[0;34m(\u001b[0m\u001b[0msrc\u001b[0m\u001b[0;34m,\u001b[0m \u001b[0mkwds\u001b[0m\u001b[0;34m)\u001b[0m\u001b[0;34m\u001b[0m\u001b[0;34m\u001b[0m\u001b[0m\n\u001b[0m\u001b[1;32m     52\u001b[0m         \u001b[0;32massert\u001b[0m \u001b[0mself\u001b[0m\u001b[0;34m.\u001b[0m\u001b[0mhandles\u001b[0m \u001b[0;32mis\u001b[0m \u001b[0;32mnot\u001b[0m \u001b[0;32mNone\u001b[0m\u001b[0;34m\u001b[0m\u001b[0;34m\u001b[0m\u001b[0m\n\u001b[1;32m     53\u001b[0m \u001b[0;34m\u001b[0m\u001b[0m\n",
      "\u001b[0;32m~/opt/anaconda3/lib/python3.9/site-packages/pandas/io/parsers/base_parser.py\u001b[0m in \u001b[0;36m_open_handles\u001b[0;34m(self, src, kwds)\u001b[0m\n\u001b[1;32m    220\u001b[0m         \u001b[0mLet\u001b[0m \u001b[0mthe\u001b[0m \u001b[0mreaders\u001b[0m \u001b[0mopen\u001b[0m \u001b[0mIOHandles\u001b[0m \u001b[0mafter\u001b[0m \u001b[0mthey\u001b[0m \u001b[0mare\u001b[0m \u001b[0mdone\u001b[0m \u001b[0;32mwith\u001b[0m \u001b[0mtheir\u001b[0m \u001b[0mpotential\u001b[0m \u001b[0mraises\u001b[0m\u001b[0;34m.\u001b[0m\u001b[0;34m\u001b[0m\u001b[0;34m\u001b[0m\u001b[0m\n\u001b[1;32m    221\u001b[0m         \"\"\"\n\u001b[0;32m--> 222\u001b[0;31m         self.handles = get_handle(\n\u001b[0m\u001b[1;32m    223\u001b[0m             \u001b[0msrc\u001b[0m\u001b[0;34m,\u001b[0m\u001b[0;34m\u001b[0m\u001b[0;34m\u001b[0m\u001b[0m\n\u001b[1;32m    224\u001b[0m             \u001b[0;34m\"r\"\u001b[0m\u001b[0;34m,\u001b[0m\u001b[0;34m\u001b[0m\u001b[0;34m\u001b[0m\u001b[0m\n",
      "\u001b[0;32m~/opt/anaconda3/lib/python3.9/site-packages/pandas/io/common.py\u001b[0m in \u001b[0;36mget_handle\u001b[0;34m(path_or_buf, mode, encoding, compression, memory_map, is_text, errors, storage_options)\u001b[0m\n\u001b[1;32m    700\u001b[0m         \u001b[0;32mif\u001b[0m \u001b[0mioargs\u001b[0m\u001b[0;34m.\u001b[0m\u001b[0mencoding\u001b[0m \u001b[0;32mand\u001b[0m \u001b[0;34m\"b\"\u001b[0m \u001b[0;32mnot\u001b[0m \u001b[0;32min\u001b[0m \u001b[0mioargs\u001b[0m\u001b[0;34m.\u001b[0m\u001b[0mmode\u001b[0m\u001b[0;34m:\u001b[0m\u001b[0;34m\u001b[0m\u001b[0;34m\u001b[0m\u001b[0m\n\u001b[1;32m    701\u001b[0m             \u001b[0;31m# Encoding\u001b[0m\u001b[0;34m\u001b[0m\u001b[0;34m\u001b[0m\u001b[0m\n\u001b[0;32m--> 702\u001b[0;31m             handle = open(\n\u001b[0m\u001b[1;32m    703\u001b[0m                 \u001b[0mhandle\u001b[0m\u001b[0;34m,\u001b[0m\u001b[0;34m\u001b[0m\u001b[0;34m\u001b[0m\u001b[0m\n\u001b[1;32m    704\u001b[0m                 \u001b[0mioargs\u001b[0m\u001b[0;34m.\u001b[0m\u001b[0mmode\u001b[0m\u001b[0;34m,\u001b[0m\u001b[0;34m\u001b[0m\u001b[0;34m\u001b[0m\u001b[0m\n",
      "\u001b[0;31mFileNotFoundError\u001b[0m: [Errno 2] No such file or directory: 'Discount_optimisation/Data/users.csv'"
     ]
    }
   ],
   "source": [
    "users_raw = pd.read_csv('Discount_optimisation/Data/users.csv')"
   ]
  },
  {
   "cell_type": "code",
   "execution_count": 41,
   "id": "9bbf41f8",
   "metadata": {},
   "outputs": [
    {
     "name": "stdout",
     "output_type": "stream",
     "text": [
      "<class 'pandas.core.frame.DataFrame'>\n",
      "RangeIndex: 5000 entries, 0 to 4999\n",
      "Data columns (total 2 columns):\n",
      " #   Column      Non-Null Count  Dtype \n",
      "---  ------      --------------  ----- \n",
      " 0   CREATED_AT  5000 non-null   object\n",
      " 1   USER_ID     5000 non-null   int64 \n",
      "dtypes: int64(1), object(1)\n",
      "memory usage: 78.2+ KB\n"
     ]
    }
   ],
   "source": [
    "users_raw.info()"
   ]
  },
  {
   "cell_type": "code",
   "execution_count": 42,
   "id": "c35eb01a",
   "metadata": {},
   "outputs": [
    {
     "data": {
      "text/html": [
       "<div>\n",
       "<style scoped>\n",
       "    .dataframe tbody tr th:only-of-type {\n",
       "        vertical-align: middle;\n",
       "    }\n",
       "\n",
       "    .dataframe tbody tr th {\n",
       "        vertical-align: top;\n",
       "    }\n",
       "\n",
       "    .dataframe thead th {\n",
       "        text-align: right;\n",
       "    }\n",
       "</style>\n",
       "<table border=\"1\" class=\"dataframe\">\n",
       "  <thead>\n",
       "    <tr style=\"text-align: right;\">\n",
       "      <th></th>\n",
       "      <th>CREATED_AT</th>\n",
       "      <th>USER_ID</th>\n",
       "    </tr>\n",
       "  </thead>\n",
       "  <tbody>\n",
       "    <tr>\n",
       "      <th>4998</th>\n",
       "      <td>2019-03-23 11:43:05.437</td>\n",
       "      <td>1343380</td>\n",
       "    </tr>\n",
       "    <tr>\n",
       "      <th>4999</th>\n",
       "      <td>2020-04-24 17:12:12.495</td>\n",
       "      <td>2443824</td>\n",
       "    </tr>\n",
       "  </tbody>\n",
       "</table>\n",
       "</div>"
      ],
      "text/plain": [
       "                   CREATED_AT  USER_ID\n",
       "4998  2019-03-23 11:43:05.437  1343380\n",
       "4999  2020-04-24 17:12:12.495  2443824"
      ]
     },
     "execution_count": 42,
     "metadata": {},
     "output_type": "execute_result"
    }
   ],
   "source": [
    "users_raw.tail(2)"
   ]
  },
  {
   "cell_type": "markdown",
   "id": "bfcd15e2",
   "metadata": {},
   "source": [
    "#### Orders"
   ]
  },
  {
   "cell_type": "code",
   "execution_count": 43,
   "id": "ddfda6bc",
   "metadata": {},
   "outputs": [],
   "source": [
    "orders_raw = pd.read_csv('Data/orders.csv')"
   ]
  },
  {
   "cell_type": "code",
   "execution_count": 44,
   "id": "275385ca",
   "metadata": {},
   "outputs": [
    {
     "name": "stdout",
     "output_type": "stream",
     "text": [
      "<class 'pandas.core.frame.DataFrame'>\n",
      "RangeIndex: 22050 entries, 0 to 22049\n",
      "Data columns (total 7 columns):\n",
      " #   Column                           Non-Null Count  Dtype \n",
      "---  ------                           --------------  ----- \n",
      " 0   ID                               22050 non-null  int64 \n",
      " 1   USER_ID                          22050 non-null  int64 \n",
      " 2   CREATED_AT                       22050 non-null  object\n",
      " 3   PRODUCT_ID                       22050 non-null  int64 \n",
      " 4   TOTAL_COST_PENNIES               22050 non-null  int64 \n",
      " 5   TOTAL_COST_PRE_DISCOUNT_PENNIES  22050 non-null  int64 \n",
      " 6   SOURCE                           22050 non-null  object\n",
      "dtypes: int64(5), object(2)\n",
      "memory usage: 1.2+ MB\n"
     ]
    }
   ],
   "source": [
    "orders_raw.info()"
   ]
  },
  {
   "cell_type": "code",
   "execution_count": 45,
   "id": "b2ec1600",
   "metadata": {},
   "outputs": [
    {
     "data": {
      "text/html": [
       "<div>\n",
       "<style scoped>\n",
       "    .dataframe tbody tr th:only-of-type {\n",
       "        vertical-align: middle;\n",
       "    }\n",
       "\n",
       "    .dataframe tbody tr th {\n",
       "        vertical-align: top;\n",
       "    }\n",
       "\n",
       "    .dataframe thead th {\n",
       "        text-align: right;\n",
       "    }\n",
       "</style>\n",
       "<table border=\"1\" class=\"dataframe\">\n",
       "  <thead>\n",
       "    <tr style=\"text-align: right;\">\n",
       "      <th></th>\n",
       "      <th>ID</th>\n",
       "      <th>USER_ID</th>\n",
       "      <th>CREATED_AT</th>\n",
       "      <th>PRODUCT_ID</th>\n",
       "      <th>TOTAL_COST_PENNIES</th>\n",
       "      <th>TOTAL_COST_PRE_DISCOUNT_PENNIES</th>\n",
       "      <th>SOURCE</th>\n",
       "    </tr>\n",
       "  </thead>\n",
       "  <tbody>\n",
       "    <tr>\n",
       "      <th>22045</th>\n",
       "      <td>118236760</td>\n",
       "      <td>1679323</td>\n",
       "      <td>2020-08-11 11:40:10.706</td>\n",
       "      <td>107</td>\n",
       "      <td>2300</td>\n",
       "      <td>2300</td>\n",
       "      <td>web</td>\n",
       "    </tr>\n",
       "    <tr>\n",
       "      <th>22046</th>\n",
       "      <td>118241895</td>\n",
       "      <td>181920</td>\n",
       "      <td>2020-08-11 18:20:15.489</td>\n",
       "      <td>1784</td>\n",
       "      <td>2880</td>\n",
       "      <td>3200</td>\n",
       "      <td>web</td>\n",
       "    </tr>\n",
       "    <tr>\n",
       "      <th>22047</th>\n",
       "      <td>118249767</td>\n",
       "      <td>2834263</td>\n",
       "      <td>2020-08-12 13:15:53.536</td>\n",
       "      <td>2802</td>\n",
       "      <td>3200</td>\n",
       "      <td>3200</td>\n",
       "      <td>Android</td>\n",
       "    </tr>\n",
       "    <tr>\n",
       "      <th>22048</th>\n",
       "      <td>118251626</td>\n",
       "      <td>1877174</td>\n",
       "      <td>2020-08-12 16:03:19.196</td>\n",
       "      <td>618</td>\n",
       "      <td>6750</td>\n",
       "      <td>7500</td>\n",
       "      <td>web</td>\n",
       "    </tr>\n",
       "    <tr>\n",
       "      <th>22049</th>\n",
       "      <td>118258826</td>\n",
       "      <td>2718801</td>\n",
       "      <td>2020-08-13 10:10:32.884</td>\n",
       "      <td>107</td>\n",
       "      <td>2070</td>\n",
       "      <td>2300</td>\n",
       "      <td>iOS</td>\n",
       "    </tr>\n",
       "  </tbody>\n",
       "</table>\n",
       "</div>"
      ],
      "text/plain": [
       "              ID  USER_ID               CREATED_AT  PRODUCT_ID  \\\n",
       "22045  118236760  1679323  2020-08-11 11:40:10.706         107   \n",
       "22046  118241895   181920  2020-08-11 18:20:15.489        1784   \n",
       "22047  118249767  2834263  2020-08-12 13:15:53.536        2802   \n",
       "22048  118251626  1877174  2020-08-12 16:03:19.196         618   \n",
       "22049  118258826  2718801  2020-08-13 10:10:32.884         107   \n",
       "\n",
       "       TOTAL_COST_PENNIES  TOTAL_COST_PRE_DISCOUNT_PENNIES   SOURCE  \n",
       "22045                2300                             2300      web  \n",
       "22046                2880                             3200      web  \n",
       "22047                3200                             3200  Android  \n",
       "22048                6750                             7500      web  \n",
       "22049                2070                             2300      iOS  "
      ]
     },
     "execution_count": 45,
     "metadata": {},
     "output_type": "execute_result"
    }
   ],
   "source": [
    "orders_raw.tail(5)"
   ]
  },
  {
   "cell_type": "code",
   "execution_count": 50,
   "id": "8772de5d",
   "metadata": {},
   "outputs": [],
   "source": [
    "orders_raw['discount%'] = ((orders_raw.TOTAL_COST_PRE_DISCOUNT_PENNIES - orders_raw.TOTAL_COST_PENNIES)\n",
    "                          / orders_raw.TOTAL_COST_PRE_DISCOUNT_PENNIES * 100)\n",
    "orders_raw['round_discount'] = orders_raw['discount%'].round(-1)"
   ]
  },
  {
   "cell_type": "code",
   "execution_count": 90,
   "id": "bcaafbc4",
   "metadata": {},
   "outputs": [
    {
     "data": {
      "text/plain": [
       "90"
      ]
     },
     "execution_count": 90,
     "metadata": {},
     "output_type": "execute_result"
    }
   ],
   "source": [
    "orders_raw['discount%'].round(0).nunique()"
   ]
  },
  {
   "cell_type": "code",
   "execution_count": 52,
   "id": "2fa6e09a",
   "metadata": {},
   "outputs": [
    {
     "data": {
      "text/plain": [
       "<AxesSubplot:xlabel='round_discount', ylabel='Count'>"
      ]
     },
     "execution_count": 52,
     "metadata": {},
     "output_type": "execute_result"
    },
    {
     "data": {
      "image/png": "[encoded data removed]",
      "text/plain": [
       "<Figure size 432x288 with 1 Axes>"
      ]
     },
     "metadata": {
      "needs_background": "light"
     },
     "output_type": "display_data"
    }
   ],
   "source": [
    "sns.histplot(data = orders_raw, x = 'round_discount')"
   ]
  },
  {
   "cell_type": "code",
   "execution_count": 53,
   "id": "1d111533",
   "metadata": {},
   "outputs": [
    {
     "data": {
      "text/plain": [
       "<AxesSubplot:>"
      ]
     },
     "execution_count": 53,
     "metadata": {},
     "output_type": "execute_result"
    },
    {
     "data": {
      "image/png": "[encoded data removed]",
      "text/plain": [
       "<Figure size 432x288 with 2 Axes>"
      ]
     },
     "metadata": {
      "needs_background": "light"
     },
     "output_type": "display_data"
    }
   ],
   "source": [
    "corr = (orders_raw[['USER_ID', 'PRODUCT_ID', \n",
    "                   'TOTAL_COST_PRE_DISCOUNT_PENNIES', 'discount%']].corr())\n",
    "\n",
    "# plot the heatmap\n",
    "sns.heatmap(corr, \n",
    "        xticklabels=corr.columns,\n",
    "        yticklabels=corr.columns)"
   ]
  },
  {
   "cell_type": "code",
   "execution_count": 82,
   "id": "ec9b45d7",
   "metadata": {},
   "outputs": [
    {
     "data": {
      "text/plain": [
       "<AxesSubplot:>"
      ]
     },
     "execution_count": 82,
     "metadata": {},
     "output_type": "execute_result"
    },
    {
     "data": {
      "image/png": "[encoded data removed]",
      "text/plain": [
       "<Figure size 432x288 with 2 Axes>"
      ]
     },
     "metadata": {
      "needs_background": "light"
     },
     "output_type": "display_data"
    }
   ],
   "source": [
    "discount_corr = (pd.DataFrame(orders_raw.groupby(['PRODUCT_ID', 'round_discount']).ID.count().rename('num_purches')\n",
    "                              .reset_index()))\n",
    "temp = discount_corr.groupby('PRODUCT_ID').num_purches.sum().rename('total_sum')\n",
    "discount_corr = discount_corr.join(temp, on = 'PRODUCT_ID')\n",
    "discount_corr['%sold'] = (discount_corr.num_purches / discount_corr.total_sum).round(1)\n",
    "corr_product_discount = (discount_corr[['PRODUCT_ID', \n",
    "                   'num_purches', '%sold']].corr())\n",
    "sns.heatmap(corr_product_discount)\n"
   ]
  },
  {
   "cell_type": "code",
   "execution_count": 207,
   "id": "b442329b",
   "metadata": {},
   "outputs": [
    {
     "data": {
      "text/plain": [
       "<AxesSubplot:>"
      ]
     },
     "execution_count": 207,
     "metadata": {},
     "output_type": "execute_result"
    },
    {
     "data": {
      "image/png": "[encoded data removed]",
      "text/plain": [
       "<Figure size 432x288 with 2 Axes>"
      ]
     },
     "metadata": {
      "needs_background": "light"
     },
     "output_type": "display_data"
    }
   ],
   "source": [
    "discount_corr_users = (pd.DataFrame(orders_raw.groupby(['USER_ID', 'round_discount'])\n",
    "                            .ID.count().rename('num_purches')\n",
    "                              .reset_index()))\n",
    "temp_users = discount_corr_users.groupby('USER_ID').num_purches.sum().rename('total_sum')\n",
    "discount_corr_users = discount_corr_users.join(temp_users, on = 'USER_ID')\n",
    "discount_corr_users['%sold'] = (discount_corr_users.num_purches / discount_corr_users.total_sum).round(1)\n",
    "corr_product_discount_users = (discount_corr_users[['USER_ID', \n",
    "                   'num_purches', '%sold', 'round_discount']].corr())\n",
    "sns.heatmap(corr_product_discount_users)"
   ]
  },
  {
   "cell_type": "markdown",
   "id": "8132d9af",
   "metadata": {},
   "source": [
    "There is no correlation between product_id and num of purcheses and very weak correlation between product_id and % of discount.\n",
    "This is no correlation between user_id and number of purchases. But there is a correlation between User_id and % of discount. And a low correlation between number of purchases and % of discount. "
   ]
  },
  {
   "cell_type": "markdown",
   "id": "a816972e",
   "metadata": {},
   "source": [
    "1. Items aren't selling better with discount than without. \n",
    "2. % of discount doesn't affect on number of purcheses (can be: if users don't need anything, it is difficult to convince them to buy the product even with dicount or discounts are managed mannually)\n",
    "3. Different items had a slightly different campaign policy.\n",
    "\n",
    "4. All users make different amount of purches with different % of discounts. (no tendecy to buy items on sales)\n",
    "5. Moslty people buy products without discount. "
   ]
  },
  {
   "cell_type": "code",
   "execution_count": 56,
   "id": "497f9bbc",
   "metadata": {},
   "outputs": [
    {
     "data": {
      "text/plain": [
       "1105"
      ]
     },
     "execution_count": 56,
     "metadata": {},
     "output_type": "execute_result"
    }
   ],
   "source": [
    "orders_raw['PRODUCT_ID'].nunique()"
   ]
  },
  {
   "cell_type": "markdown",
   "id": "e53c77ff",
   "metadata": {},
   "source": [
    "#### emails_sent"
   ]
  },
  {
   "cell_type": "code",
   "execution_count": 55,
   "id": "38b38a1a",
   "metadata": {},
   "outputs": [],
   "source": [
    "emails_sent_raw = pd.read_csv('Data/emails_sent.csv')"
   ]
  },
  {
   "cell_type": "code",
   "execution_count": 56,
   "id": "d0958413",
   "metadata": {},
   "outputs": [
    {
     "name": "stdout",
     "output_type": "stream",
     "text": [
      "<class 'pandas.core.frame.DataFrame'>\n",
      "RangeIndex: 828553 entries, 0 to 828552\n",
      "Data columns (total 5 columns):\n",
      " #   Column          Non-Null Count   Dtype \n",
      "---  ------          --------------   ----- \n",
      " 0   USER_ID         828553 non-null  int64 \n",
      " 1   CAMPAIGN_ID     828553 non-null  object\n",
      " 2   VARIATION_NAME  825669 non-null  object\n",
      " 3   SENT_AT         828553 non-null  object\n",
      " 4   OPENED_EMAIL    186943 non-null  object\n",
      "dtypes: int64(1), object(4)\n",
      "memory usage: 31.6+ MB\n"
     ]
    }
   ],
   "source": [
    "emails_sent_raw.info()"
   ]
  },
  {
   "cell_type": "code",
   "execution_count": 57,
   "id": "84624e73",
   "metadata": {},
   "outputs": [
    {
     "data": {
      "text/html": [
       "<div>\n",
       "<style scoped>\n",
       "    .dataframe tbody tr th:only-of-type {\n",
       "        vertical-align: middle;\n",
       "    }\n",
       "\n",
       "    .dataframe tbody tr th {\n",
       "        vertical-align: top;\n",
       "    }\n",
       "\n",
       "    .dataframe thead th {\n",
       "        text-align: right;\n",
       "    }\n",
       "</style>\n",
       "<table border=\"1\" class=\"dataframe\">\n",
       "  <thead>\n",
       "    <tr style=\"text-align: right;\">\n",
       "      <th></th>\n",
       "      <th>USER_ID</th>\n",
       "      <th>CAMPAIGN_ID</th>\n",
       "      <th>VARIATION_NAME</th>\n",
       "      <th>SENT_AT</th>\n",
       "      <th>OPENED_EMAIL</th>\n",
       "    </tr>\n",
       "  </thead>\n",
       "  <tbody>\n",
       "    <tr>\n",
       "      <th>0</th>\n",
       "      <td>2084572</td>\n",
       "      <td>55e05c6619f3b0b58685269d0fbb56c9</td>\n",
       "      <td>Original</td>\n",
       "      <td>2020-02-17T07:01:03.065Z</td>\n",
       "      <td>True</td>\n",
       "    </tr>\n",
       "    <tr>\n",
       "      <th>1</th>\n",
       "      <td>2084572</td>\n",
       "      <td>acf16f627094695a3bb33e7546c36df9</td>\n",
       "      <td>Joyful shot- YESPLEASE</td>\n",
       "      <td>2020-02-16T18:30:18.448Z</td>\n",
       "      <td>NaN</td>\n",
       "    </tr>\n",
       "    <tr>\n",
       "      <th>2</th>\n",
       "      <td>2084572</td>\n",
       "      <td>1daa83a96adf94499d57c8a0bd20d428</td>\n",
       "      <td>offer displayed</td>\n",
       "      <td>2020-02-17T12:03:24.896Z</td>\n",
       "      <td>NaN</td>\n",
       "    </tr>\n",
       "    <tr>\n",
       "      <th>3</th>\n",
       "      <td>2084572</td>\n",
       "      <td>cc2c741c0cfbde4c6f43231c4f53a767</td>\n",
       "      <td>Original</td>\n",
       "      <td>2020-02-17T19:06:45.551Z</td>\n",
       "      <td>True</td>\n",
       "    </tr>\n",
       "    <tr>\n",
       "      <th>4</th>\n",
       "      <td>2084572</td>\n",
       "      <td>f8519c3e9219cc5f8f762fddda8d3f22</td>\n",
       "      <td>Original</td>\n",
       "      <td>2020-02-18T12:41:32.600Z</td>\n",
       "      <td>True</td>\n",
       "    </tr>\n",
       "  </tbody>\n",
       "</table>\n",
       "</div>"
      ],
      "text/plain": [
       "   USER_ID                       CAMPAIGN_ID          VARIATION_NAME  \\\n",
       "0  2084572  55e05c6619f3b0b58685269d0fbb56c9                Original   \n",
       "1  2084572  acf16f627094695a3bb33e7546c36df9  Joyful shot- YESPLEASE   \n",
       "2  2084572  1daa83a96adf94499d57c8a0bd20d428         offer displayed   \n",
       "3  2084572  cc2c741c0cfbde4c6f43231c4f53a767                Original   \n",
       "4  2084572  f8519c3e9219cc5f8f762fddda8d3f22                Original   \n",
       "\n",
       "                    SENT_AT OPENED_EMAIL  \n",
       "0  2020-02-17T07:01:03.065Z         True  \n",
       "1  2020-02-16T18:30:18.448Z          NaN  \n",
       "2  2020-02-17T12:03:24.896Z          NaN  \n",
       "3  2020-02-17T19:06:45.551Z         True  \n",
       "4  2020-02-18T12:41:32.600Z         True  "
      ]
     },
     "execution_count": 57,
     "metadata": {},
     "output_type": "execute_result"
    }
   ],
   "source": [
    "emails_sent_raw.head()"
   ]
  },
  {
   "cell_type": "code",
   "execution_count": 58,
   "id": "35d4c878",
   "metadata": {},
   "outputs": [
    {
     "data": {
      "text/plain": [
       "OPENED_EMAIL\n",
       "True    186943\n",
       "Name: USER_ID, dtype: int64"
      ]
     },
     "execution_count": 58,
     "metadata": {},
     "output_type": "execute_result"
    }
   ],
   "source": [
    "emails_sent_raw.groupby(emails_sent_raw.OPENED_EMAIL).USER_ID.count()"
   ]
  },
  {
   "cell_type": "markdown",
   "id": "7bba81c9",
   "metadata": {},
   "source": [
    "#### campaigns"
   ]
  },
  {
   "cell_type": "code",
   "execution_count": 59,
   "id": "6615a31c",
   "metadata": {},
   "outputs": [],
   "source": [
    "emails_comp_raw = pd.read_csv('Data/email_campaigns.csv')"
   ]
  },
  {
   "cell_type": "code",
   "execution_count": 60,
   "id": "9cf3c789",
   "metadata": {},
   "outputs": [
    {
     "name": "stdout",
     "output_type": "stream",
     "text": [
      "<class 'pandas.core.frame.DataFrame'>\n",
      "RangeIndex: 4459 entries, 0 to 4458\n",
      "Data columns (total 4 columns):\n",
      " #   Column               Non-Null Count  Dtype  \n",
      "---  ------               --------------  -----  \n",
      " 0   CAMPAIGN_ID          4459 non-null   object \n",
      " 1   NAME                 4459 non-null   object \n",
      " 2   VARIATION_NAME       4147 non-null   object \n",
      " 3   PERCENTAGE_DISCOUNT  3593 non-null   float64\n",
      "dtypes: float64(1), object(3)\n",
      "memory usage: 139.5+ KB\n"
     ]
    }
   ],
   "source": [
    "emails_comp_raw.info()"
   ]
  },
  {
   "cell_type": "code",
   "execution_count": 85,
   "id": "9d822600",
   "metadata": {},
   "outputs": [
    {
     "data": {
      "text/html": [
       "<div>\n",
       "<style scoped>\n",
       "    .dataframe tbody tr th:only-of-type {\n",
       "        vertical-align: middle;\n",
       "    }\n",
       "\n",
       "    .dataframe tbody tr th {\n",
       "        vertical-align: top;\n",
       "    }\n",
       "\n",
       "    .dataframe thead th {\n",
       "        text-align: right;\n",
       "    }\n",
       "</style>\n",
       "<table border=\"1\" class=\"dataframe\">\n",
       "  <thead>\n",
       "    <tr style=\"text-align: right;\">\n",
       "      <th></th>\n",
       "      <th>CAMPAIGN_ID</th>\n",
       "      <th>NAME</th>\n",
       "      <th>name_campaigns</th>\n",
       "      <th>PERCENTAGE_DISCOUNT</th>\n",
       "    </tr>\n",
       "  </thead>\n",
       "  <tbody>\n",
       "    <tr>\n",
       "      <th>0</th>\n",
       "      <td>6a47a6e74a5b4250b10d6e6d7537f7d9</td>\n",
       "      <td>26/08/19 Push Notification - IOS 15% off sale ...</td>\n",
       "      <td>GIF: BOUQUETS</td>\n",
       "      <td>15.0</td>\n",
       "    </tr>\n",
       "    <tr>\n",
       "      <th>1</th>\n",
       "      <td>70c44a9a57cb06a141474dada8b288a5</td>\n",
       "      <td>Delivery complete (en) - 3.0</td>\n",
       "      <td>Old</td>\n",
       "      <td>15.0</td>\n",
       "    </tr>\n",
       "    <tr>\n",
       "      <th>2</th>\n",
       "      <td>c6dafe72c0eeb604a382fd9af47aee4d</td>\n",
       "      <td>DE - 13/09/20 - Refresh the home - 15%</td>\n",
       "      <td>15%</td>\n",
       "      <td>15.0</td>\n",
       "    </tr>\n",
       "    <tr>\n",
       "      <th>3</th>\n",
       "      <td>8ea4d4d1e46719f6c6edd9149d28a7e6</td>\n",
       "      <td>FB_ActiveCustomers_Test</td>\n",
       "      <td>Variant 1</td>\n",
       "      <td>20.0</td>\n",
       "    </tr>\n",
       "    <tr>\n",
       "      <th>4</th>\n",
       "      <td>da7cae4c808a032a244f38e7337f2a85</td>\n",
       "      <td>30/04/19 At Risk text email - 20% off</td>\n",
       "      <td>CVJ74</td>\n",
       "      <td>20.0</td>\n",
       "    </tr>\n",
       "  </tbody>\n",
       "</table>\n",
       "</div>"
      ],
      "text/plain": [
       "                        CAMPAIGN_ID  \\\n",
       "0  6a47a6e74a5b4250b10d6e6d7537f7d9   \n",
       "1  70c44a9a57cb06a141474dada8b288a5   \n",
       "2  c6dafe72c0eeb604a382fd9af47aee4d   \n",
       "3  8ea4d4d1e46719f6c6edd9149d28a7e6   \n",
       "4  da7cae4c808a032a244f38e7337f2a85   \n",
       "\n",
       "                                                NAME name_campaigns  \\\n",
       "0  26/08/19 Push Notification - IOS 15% off sale ...  GIF: BOUQUETS   \n",
       "1                       Delivery complete (en) - 3.0            Old   \n",
       "2             DE - 13/09/20 - Refresh the home - 15%            15%   \n",
       "3                            FB_ActiveCustomers_Test      Variant 1   \n",
       "4              30/04/19 At Risk text email - 20% off          CVJ74   \n",
       "\n",
       "   PERCENTAGE_DISCOUNT  \n",
       "0                 15.0  \n",
       "1                 15.0  \n",
       "2                 15.0  \n",
       "3                 20.0  \n",
       "4                 20.0  "
      ]
     },
     "execution_count": 85,
     "metadata": {},
     "output_type": "execute_result"
    }
   ],
   "source": [
    "emails_comp_raw.head()"
   ]
  },
  {
   "cell_type": "code",
   "execution_count": 86,
   "id": "b289c1cd",
   "metadata": {},
   "outputs": [
    {
     "data": {
      "text/plain": [
       "3530"
      ]
     },
     "execution_count": 86,
     "metadata": {},
     "output_type": "execute_result"
    }
   ],
   "source": [
    "emails_comp_raw['CAMPAIGN_ID'].nunique()"
   ]
  },
  {
   "cell_type": "code",
   "execution_count": 88,
   "id": "ec9f21fa",
   "metadata": {},
   "outputs": [
    {
     "data": {
      "text/plain": [
       "14"
      ]
     },
     "execution_count": 88,
     "metadata": {},
     "output_type": "execute_result"
    }
   ],
   "source": [
    "emails_comp_raw.PERCENTAGE_DISCOUNT.nunique()"
   ]
  },
  {
   "cell_type": "code",
   "execution_count": 91,
   "id": "bff19a20",
   "metadata": {},
   "outputs": [
    {
     "data": {
      "text/plain": [
       "array([ 15.,  20.,  40.,   0.,  25.,  nan,  10.,  30.,  50., 100.,  12.,\n",
       "         9.,  16.,  35.,   1.])"
      ]
     },
     "execution_count": 91,
     "metadata": {},
     "output_type": "execute_result"
    }
   ],
   "source": [
    "emails_comp_raw.PERCENTAGE_DISCOUNT.unique()"
   ]
  },
  {
   "cell_type": "code",
   "execution_count": 63,
   "id": "b93fdb66",
   "metadata": {},
   "outputs": [],
   "source": [
    "emails_comp_raw = emails_comp_raw.rename(columns = {'VARIATION_NAME': 'name_campaigns'})"
   ]
  },
  {
   "cell_type": "code",
   "execution_count": 64,
   "id": "d2c25686",
   "metadata": {},
   "outputs": [],
   "source": [
    "users_camp = emails_sent_raw.merge(emails_comp_raw, on = 'CAMPAIGN_ID', how = 'left')"
   ]
  },
  {
   "cell_type": "code",
   "execution_count": 65,
   "id": "cce6730d",
   "metadata": {},
   "outputs": [
    {
     "data": {
      "text/html": [
       "<div>\n",
       "<style scoped>\n",
       "    .dataframe tbody tr th:only-of-type {\n",
       "        vertical-align: middle;\n",
       "    }\n",
       "\n",
       "    .dataframe tbody tr th {\n",
       "        vertical-align: top;\n",
       "    }\n",
       "\n",
       "    .dataframe thead th {\n",
       "        text-align: right;\n",
       "    }\n",
       "</style>\n",
       "<table border=\"1\" class=\"dataframe\">\n",
       "  <thead>\n",
       "    <tr style=\"text-align: right;\">\n",
       "      <th></th>\n",
       "      <th>USER_ID</th>\n",
       "      <th>CAMPAIGN_ID</th>\n",
       "      <th>VARIATION_NAME</th>\n",
       "      <th>SENT_AT</th>\n",
       "      <th>OPENED_EMAIL</th>\n",
       "      <th>NAME</th>\n",
       "      <th>name_campaigns</th>\n",
       "      <th>PERCENTAGE_DISCOUNT</th>\n",
       "    </tr>\n",
       "  </thead>\n",
       "  <tbody>\n",
       "    <tr>\n",
       "      <th>0</th>\n",
       "      <td>2084572</td>\n",
       "      <td>55e05c6619f3b0b58685269d0fbb56c9</td>\n",
       "      <td>Original</td>\n",
       "      <td>2020-02-17T07:01:03.065Z</td>\n",
       "      <td>True</td>\n",
       "      <td>Confirm Purchase (en) - 5.4</td>\n",
       "      <td>NaN</td>\n",
       "      <td>15.0</td>\n",
       "    </tr>\n",
       "    <tr>\n",
       "      <th>1</th>\n",
       "      <td>2084572</td>\n",
       "      <td>55e05c6619f3b0b58685269d0fbb56c9</td>\n",
       "      <td>Original</td>\n",
       "      <td>2020-02-17T07:01:03.065Z</td>\n",
       "      <td>True</td>\n",
       "      <td>Confirm Purchase (en) - 5.4</td>\n",
       "      <td>Original</td>\n",
       "      <td>15.0</td>\n",
       "    </tr>\n",
       "  </tbody>\n",
       "</table>\n",
       "</div>"
      ],
      "text/plain": [
       "   USER_ID                       CAMPAIGN_ID VARIATION_NAME  \\\n",
       "0  2084572  55e05c6619f3b0b58685269d0fbb56c9       Original   \n",
       "1  2084572  55e05c6619f3b0b58685269d0fbb56c9       Original   \n",
       "\n",
       "                    SENT_AT OPENED_EMAIL                         NAME  \\\n",
       "0  2020-02-17T07:01:03.065Z         True  Confirm Purchase (en) - 5.4   \n",
       "1  2020-02-17T07:01:03.065Z         True  Confirm Purchase (en) - 5.4   \n",
       "\n",
       "  name_campaigns  PERCENTAGE_DISCOUNT  \n",
       "0            NaN                 15.0  \n",
       "1       Original                 15.0  "
      ]
     },
     "execution_count": 65,
     "metadata": {},
     "output_type": "execute_result"
    }
   ],
   "source": [
    "users_camp.head(2)"
   ]
  },
  {
   "cell_type": "code",
   "execution_count": 67,
   "id": "e353d7f5",
   "metadata": {},
   "outputs": [],
   "source": [
    "orders_raw['PERCENTAGE_DISCOUNT'] = orders_raw['discount%']"
   ]
  },
  {
   "cell_type": "code",
   "execution_count": 68,
   "id": "22e26e40",
   "metadata": {},
   "outputs": [],
   "source": [
    "campaign_orders = orders_raw.merge(users_camp, on = ['USER_ID', 'PERCENTAGE_DISCOUNT'], how = 'left')"
   ]
  },
  {
   "cell_type": "code",
   "execution_count": 69,
   "id": "afae411e",
   "metadata": {},
   "outputs": [],
   "source": [
    "campaign_orders['CREATED_AT'] = pd.to_datetime(campaign_orders['CREATED_AT']).dt.date\n",
    "campaign_orders['SENT_AT'] = pd.to_datetime(campaign_orders['SENT_AT']).dt.tz_localize(None).dt.date"
   ]
  },
  {
   "cell_type": "code",
   "execution_count": 70,
   "id": "3bb74e25",
   "metadata": {},
   "outputs": [],
   "source": [
    "campaign_orders['interval'] = (campaign_orders.CREATED_AT - campaign_orders.SENT_AT).astype('timedelta64[h]')/24"
   ]
  },
  {
   "cell_type": "code",
   "execution_count": 71,
   "id": "71143fb7",
   "metadata": {},
   "outputs": [],
   "source": [
    "campaign_orders = campaign_orders[(campaign_orders.interval <=21) & (campaign_orders.interval >= 0)]"
   ]
  },
  {
   "cell_type": "code",
   "execution_count": 72,
   "id": "75216a5a",
   "metadata": {},
   "outputs": [
    {
     "name": "stdout",
     "output_type": "stream",
     "text": [
      "<class 'pandas.core.frame.DataFrame'>\n",
      "Int64Index: 37303 entries, 193 to 1123343\n",
      "Data columns (total 17 columns):\n",
      " #   Column                           Non-Null Count  Dtype  \n",
      "---  ------                           --------------  -----  \n",
      " 0   ID                               37303 non-null  int64  \n",
      " 1   USER_ID                          37303 non-null  int64  \n",
      " 2   CREATED_AT                       37303 non-null  object \n",
      " 3   PRODUCT_ID                       37303 non-null  int64  \n",
      " 4   TOTAL_COST_PENNIES               37303 non-null  int64  \n",
      " 5   TOTAL_COST_PRE_DISCOUNT_PENNIES  37303 non-null  int64  \n",
      " 6   SOURCE                           37303 non-null  object \n",
      " 7   PERCENTAGE_DISCOUNT              37303 non-null  float64\n",
      " 8   discount%                        37303 non-null  float64\n",
      " 9   round_discount                   37303 non-null  float64\n",
      " 10  CAMPAIGN_ID                      37303 non-null  object \n",
      " 11  VARIATION_NAME                   37137 non-null  object \n",
      " 12  SENT_AT                          37303 non-null  object \n",
      " 13  OPENED_EMAIL                     17367 non-null  object \n",
      " 14  NAME                             37303 non-null  object \n",
      " 15  name_campaigns                   32417 non-null  object \n",
      " 16  interval                         37303 non-null  float64\n",
      "dtypes: float64(4), int64(5), object(8)\n",
      "memory usage: 5.1+ MB\n"
     ]
    }
   ],
   "source": [
    "campaign_orders.info()"
   ]
  },
  {
   "cell_type": "code",
   "execution_count": 74,
   "id": "f47065c4",
   "metadata": {},
   "outputs": [
    {
     "data": {
      "text/html": [
       "<div>\n",
       "<style scoped>\n",
       "    .dataframe tbody tr th:only-of-type {\n",
       "        vertical-align: middle;\n",
       "    }\n",
       "\n",
       "    .dataframe tbody tr th {\n",
       "        vertical-align: top;\n",
       "    }\n",
       "\n",
       "    .dataframe thead th {\n",
       "        text-align: right;\n",
       "    }\n",
       "</style>\n",
       "<table border=\"1\" class=\"dataframe\">\n",
       "  <thead>\n",
       "    <tr style=\"text-align: right;\">\n",
       "      <th></th>\n",
       "      <th>ID</th>\n",
       "      <th>USER_ID</th>\n",
       "      <th>CREATED_AT</th>\n",
       "      <th>PRODUCT_ID</th>\n",
       "      <th>TOTAL_COST_PENNIES</th>\n",
       "      <th>TOTAL_COST_PRE_DISCOUNT_PENNIES</th>\n",
       "      <th>SOURCE</th>\n",
       "      <th>PERCENTAGE_DISCOUNT</th>\n",
       "      <th>discount%</th>\n",
       "      <th>round_discount</th>\n",
       "      <th>CAMPAIGN_ID</th>\n",
       "      <th>VARIATION_NAME</th>\n",
       "      <th>SENT_AT</th>\n",
       "      <th>OPENED_EMAIL</th>\n",
       "      <th>NAME</th>\n",
       "      <th>name_campaigns</th>\n",
       "      <th>interval</th>\n",
       "    </tr>\n",
       "  </thead>\n",
       "  <tbody>\n",
       "    <tr>\n",
       "      <th>193</th>\n",
       "      <td>114247432</td>\n",
       "      <td>386193</td>\n",
       "      <td>2019-10-09</td>\n",
       "      <td>1782</td>\n",
       "      <td>1870</td>\n",
       "      <td>2200</td>\n",
       "      <td>web</td>\n",
       "      <td>15.0</td>\n",
       "      <td>15.0</td>\n",
       "      <td>20.0</td>\n",
       "      <td>a333674e959ae64f66e343a27160debb</td>\n",
       "      <td>V1</td>\n",
       "      <td>2019-09-19</td>\n",
       "      <td>NaN</td>\n",
       "      <td>19/09/19 FTP - 15% off</td>\n",
       "      <td>V1</td>\n",
       "      <td>20.0</td>\n",
       "    </tr>\n",
       "    <tr>\n",
       "      <th>194</th>\n",
       "      <td>114247432</td>\n",
       "      <td>386193</td>\n",
       "      <td>2019-10-09</td>\n",
       "      <td>1782</td>\n",
       "      <td>1870</td>\n",
       "      <td>2200</td>\n",
       "      <td>web</td>\n",
       "      <td>15.0</td>\n",
       "      <td>15.0</td>\n",
       "      <td>20.0</td>\n",
       "      <td>4039331640ee43195bc3bd68c2b3ea0f</td>\n",
       "      <td>CVJ74</td>\n",
       "      <td>2019-09-20</td>\n",
       "      <td>NaN</td>\n",
       "      <td>20/09/19 Text resend to non-opens - 15% off</td>\n",
       "      <td>CVJ74</td>\n",
       "      <td>19.0</td>\n",
       "    </tr>\n",
       "  </tbody>\n",
       "</table>\n",
       "</div>"
      ],
      "text/plain": [
       "            ID  USER_ID  CREATED_AT  PRODUCT_ID  TOTAL_COST_PENNIES  \\\n",
       "193  114247432   386193  2019-10-09        1782                1870   \n",
       "194  114247432   386193  2019-10-09        1782                1870   \n",
       "\n",
       "     TOTAL_COST_PRE_DISCOUNT_PENNIES SOURCE  PERCENTAGE_DISCOUNT  discount%  \\\n",
       "193                             2200    web                 15.0       15.0   \n",
       "194                             2200    web                 15.0       15.0   \n",
       "\n",
       "     round_discount                       CAMPAIGN_ID VARIATION_NAME  \\\n",
       "193            20.0  a333674e959ae64f66e343a27160debb             V1   \n",
       "194            20.0  4039331640ee43195bc3bd68c2b3ea0f          CVJ74   \n",
       "\n",
       "        SENT_AT OPENED_EMAIL                                         NAME  \\\n",
       "193  2019-09-19          NaN                       19/09/19 FTP - 15% off   \n",
       "194  2019-09-20          NaN  20/09/19 Text resend to non-opens - 15% off   \n",
       "\n",
       "    name_campaigns  interval  \n",
       "193             V1      20.0  \n",
       "194          CVJ74      19.0  "
      ]
     },
     "execution_count": 74,
     "metadata": {},
     "output_type": "execute_result"
    }
   ],
   "source": [
    "campaign_orders.head(2)"
   ]
  },
  {
   "cell_type": "code",
   "execution_count": null,
   "id": "d1927a23",
   "metadata": {},
   "outputs": [],
   "source": []
  }
 ],
 "metadata": {
  "kernelspec": {
   "display_name": "Python 3 (ipykernel)",
   "language": "python",
   "name": "python3"
  },
  "language_info": {
   "codemirror_mode": {
    "name": "ipython",
    "version": 3
   },
   "file_extension": ".py",
   "mimetype": "text/x-python",
   "name": "python",
   "nbconvert_exporter": "python",
   "pygments_lexer": "ipython3",
   "version": "3.9.7"
  }
 },
 "nbformat": 4,
 "nbformat_minor": 5
}
