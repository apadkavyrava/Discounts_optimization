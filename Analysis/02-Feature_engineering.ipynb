{
 "cells": [
  {
   "cell_type": "code",
   "execution_count": 2,
   "id": "e92a92df",
   "metadata": {},
   "outputs": [],
   "source": [
    "#  import packages\n",
    "import pandas as pd"
   ]
  },
  {
   "cell_type": "code",
   "execution_count": 3,
   "id": "2eebcad8",
   "metadata": {},
   "outputs": [],
   "source": [
    "#  import data\n",
    "data_raw = pd.read_csv('../Project_datasets/campaign_orders.csv')"
   ]
  },
  {
   "cell_type": "code",
   "execution_count": 4,
   "id": "7c3b835d",
   "metadata": {},
   "outputs": [
    {
     "name": "stdout",
     "output_type": "stream",
     "text": [
      "<class 'pandas.core.frame.DataFrame'>\n",
      "RangeIndex: 436577 entries, 0 to 436576\n",
      "Data columns (total 11 columns):\n",
      " #   Column                           Non-Null Count   Dtype  \n",
      "---  ------                           --------------   -----  \n",
      " 0   user_id                          436577 non-null  int64  \n",
      " 1   product_id                       436577 non-null  int64  \n",
      " 2   total_cost_pennies               436577 non-null  int64  \n",
      " 3   source                           436577 non-null  object \n",
      " 4   total_cost_pre_discount_pennies  436577 non-null  int64  \n",
      " 5   discount%                        436577 non-null  float64\n",
      " 6   campaign_id                      436577 non-null  object \n",
      " 7   sent_at                          436577 non-null  object \n",
      " 8   name_campaigns                   391693 non-null  object \n",
      " 9   opened_email                     126148 non-null  object \n",
      " 10  purchase                         436577 non-null  int64  \n",
      "dtypes: float64(1), int64(5), object(5)\n",
      "memory usage: 36.6+ MB\n"
     ]
    }
   ],
   "source": [
    "data_raw.info()"
   ]
  },
  {
   "cell_type": "code",
   "execution_count": 5,
   "id": "9d160654",
   "metadata": {},
   "outputs": [
    {
     "data": {
      "text/html": [
       "<div>\n",
       "<style scoped>\n",
       "    .dataframe tbody tr th:only-of-type {\n",
       "        vertical-align: middle;\n",
       "    }\n",
       "\n",
       "    .dataframe tbody tr th {\n",
       "        vertical-align: top;\n",
       "    }\n",
       "\n",
       "    .dataframe thead th {\n",
       "        text-align: right;\n",
       "    }\n",
       "</style>\n",
       "<table border=\"1\" class=\"dataframe\">\n",
       "  <thead>\n",
       "    <tr style=\"text-align: right;\">\n",
       "      <th></th>\n",
       "      <th>user_id</th>\n",
       "      <th>product_id</th>\n",
       "      <th>total_cost_pennies</th>\n",
       "      <th>source</th>\n",
       "      <th>total_cost_pre_discount_pennies</th>\n",
       "      <th>discount%</th>\n",
       "      <th>campaign_id</th>\n",
       "      <th>sent_at</th>\n",
       "      <th>name_campaigns</th>\n",
       "      <th>opened_email</th>\n",
       "      <th>purchase</th>\n",
       "    </tr>\n",
       "  </thead>\n",
       "  <tbody>\n",
       "    <tr>\n",
       "      <th>0</th>\n",
       "      <td>386193</td>\n",
       "      <td>1782</td>\n",
       "      <td>1870</td>\n",
       "      <td>web</td>\n",
       "      <td>2200</td>\n",
       "      <td>15.0</td>\n",
       "      <td>28c8c1c87f0336332ee2a1074894eb1c</td>\n",
       "      <td>2017-02-23</td>\n",
       "      <td>New template</td>\n",
       "      <td>True</td>\n",
       "      <td>0</td>\n",
       "    </tr>\n",
       "    <tr>\n",
       "      <th>1</th>\n",
       "      <td>386193</td>\n",
       "      <td>1782</td>\n",
       "      <td>1870</td>\n",
       "      <td>web</td>\n",
       "      <td>2200</td>\n",
       "      <td>15.0</td>\n",
       "      <td>2c7f0e90318c992d9e5c869a396e5825</td>\n",
       "      <td>2017-03-05</td>\n",
       "      <td>NaN</td>\n",
       "      <td>NaN</td>\n",
       "      <td>0</td>\n",
       "    </tr>\n",
       "    <tr>\n",
       "      <th>2</th>\n",
       "      <td>386193</td>\n",
       "      <td>1782</td>\n",
       "      <td>1870</td>\n",
       "      <td>web</td>\n",
       "      <td>2200</td>\n",
       "      <td>15.0</td>\n",
       "      <td>eaeefcf45446021f396ff0d63c57983a</td>\n",
       "      <td>2017-03-09</td>\n",
       "      <td>NaN</td>\n",
       "      <td>True</td>\n",
       "      <td>0</td>\n",
       "    </tr>\n",
       "    <tr>\n",
       "      <th>3</th>\n",
       "      <td>386193</td>\n",
       "      <td>1782</td>\n",
       "      <td>1870</td>\n",
       "      <td>web</td>\n",
       "      <td>2200</td>\n",
       "      <td>15.0</td>\n",
       "      <td>eaeefcf45446021f396ff0d63c57983a</td>\n",
       "      <td>2017-03-09</td>\n",
       "      <td>Variant 1</td>\n",
       "      <td>True</td>\n",
       "      <td>0</td>\n",
       "    </tr>\n",
       "    <tr>\n",
       "      <th>4</th>\n",
       "      <td>386193</td>\n",
       "      <td>1782</td>\n",
       "      <td>1870</td>\n",
       "      <td>web</td>\n",
       "      <td>2200</td>\n",
       "      <td>15.0</td>\n",
       "      <td>a9790a1f76d7f6f19de78353393023f2</td>\n",
       "      <td>2017-06-13</td>\n",
       "      <td>Variant 2 - video version B</td>\n",
       "      <td>NaN</td>\n",
       "      <td>0</td>\n",
       "    </tr>\n",
       "  </tbody>\n",
       "</table>\n",
       "</div>"
      ],
      "text/plain": [
       "   user_id  product_id  total_cost_pennies source  \\\n",
       "0   386193        1782                1870    web   \n",
       "1   386193        1782                1870    web   \n",
       "2   386193        1782                1870    web   \n",
       "3   386193        1782                1870    web   \n",
       "4   386193        1782                1870    web   \n",
       "\n",
       "   total_cost_pre_discount_pennies  discount%  \\\n",
       "0                             2200       15.0   \n",
       "1                             2200       15.0   \n",
       "2                             2200       15.0   \n",
       "3                             2200       15.0   \n",
       "4                             2200       15.0   \n",
       "\n",
       "                        campaign_id     sent_at               name_campaigns  \\\n",
       "0  28c8c1c87f0336332ee2a1074894eb1c  2017-02-23                 New template   \n",
       "1  2c7f0e90318c992d9e5c869a396e5825  2017-03-05                          NaN   \n",
       "2  eaeefcf45446021f396ff0d63c57983a  2017-03-09                          NaN   \n",
       "3  eaeefcf45446021f396ff0d63c57983a  2017-03-09                    Variant 1   \n",
       "4  a9790a1f76d7f6f19de78353393023f2  2017-06-13  Variant 2 - video version B   \n",
       "\n",
       "  opened_email  purchase  \n",
       "0         True         0  \n",
       "1          NaN         0  \n",
       "2         True         0  \n",
       "3         True         0  \n",
       "4          NaN         0  "
      ]
     },
     "execution_count": 5,
     "metadata": {},
     "output_type": "execute_result"
    }
   ],
   "source": [
    "data_raw.head()"
   ]
  },
  {
   "cell_type": "code",
   "execution_count": 6,
   "id": "bb9987ff",
   "metadata": {},
   "outputs": [
    {
     "name": "stdout",
     "output_type": "stream",
     "text": [
      "source            int64\n",
      "campaign_id       int64\n",
      "name_campaigns    int64\n",
      "opened_email      int64\n",
      "dtype: object\n"
     ]
    }
   ],
   "source": [
    "#  reloaded all string data into categories\n",
    "\n",
    "columns_to_convert = ['source', 'campaign_id', 'name_campaigns', 'opened_email']\n",
    "\n",
    "for col in columns_to_convert:\n",
    "    data_raw[col] = pd.to_numeric(data_raw[col], errors='coerce').fillna(0).astype(int)\n",
    "print(data_raw[columns_to_convert].dtypes)"
   ]
  },
  {
   "cell_type": "code",
   "execution_count": 7,
   "id": "94391b3e",
   "metadata": {},
   "outputs": [],
   "source": [
    "#  Historical behaviour"
   ]
  },
  {
   "cell_type": "code",
   "execution_count": 8,
   "id": "449cd5d4",
   "metadata": {},
   "outputs": [],
   "source": [
    "#  features:\n",
    "\n",
    "# purchses:\n",
    "#  if previous campaign led to a purchase\n",
    "# how many emails ago a user made a purchase\n",
    "# average num of emails led to purshase\n",
    "# average interval in days between purshase\n",
    "\n",
    "# discount:\n",
    "# was the previous discount bigger\n",
    "# num of purchase without discount\n",
    "# discount with the max amount of purchases\n",
    "\n",
    "# seasonality:\n",
    "# was the purchase the same day year ago\n",
    "# weekend\n",
    "\n",
    "# product:\n",
    "# have a user bought this item before\n",
    "# what was the % discount for this item\n"
   ]
  },
  {
   "cell_type": "code",
   "execution_count": 9,
   "id": "a82ca712",
   "metadata": {},
   "outputs": [],
   "source": [
    "#  if previous campaign led to a purchase\n",
    "\n",
    "data_raw['sent_at'] = pd.to_datetime(data_raw['sent_at'])\n",
    "data_raw = data_raw.sort_values(['user_id', 'sent_at'])\n",
    "data_raw['last_email'] = data_raw.groupby('user_id')['purchase'].shift(1).fillna(0).astype(int)"
   ]
  },
  {
   "cell_type": "code",
   "execution_count": 10,
   "id": "4dca7a3f",
   "metadata": {},
   "outputs": [],
   "source": [
    "# how many emails ago a user made a purchase\n",
    "\n",
    "data_raw = data_raw.sort_values(['user_id', 'sent_at'])\n",
    "\n",
    "# for each row, count zeros before first 1 up to that point\n",
    "data_raw['last_pos_email'] = data_raw.groupby('user_id')['purchase'].transform(\n",
    "    lambda x: [x[:i+1].argmax() if (x[:i+1] == 1).any() else i+1 \n",
    "               for i in range(len(x))]\n",
    ")"
   ]
  },
  {
   "cell_type": "code",
   "execution_count": 11,
   "id": "e2ba098f",
   "metadata": {},
   "outputs": [],
   "source": [
    "# average num of emails led to purshase\n",
    "\n",
    "# sort values\n",
    "data_raw = data_raw.sort_values(['user_id', 'sent_at'])\n",
    "\n",
    "# count cumulative emails and purchases\n",
    "data_raw['cumcount'] = data_raw.groupby('user_id').cumcount()\n",
    "data_raw['cum_purchases'] = data_raw.groupby('user_id')['purchase'].cumsum()\n",
    "data_raw['cum_emails'] = data_raw['cumcount'] - data_raw['cum_purchases']\n",
    "\n",
    "# average emails per purchase \n",
    "data_raw['avg_email_sent'] = data_raw['cum_emails'] / data_raw['cum_purchases']\n",
    "data_raw['avg_email_sent'] = data_raw['avg_email_sent'].replace([float('inf'), -float('inf')], 0).fillna(0)\n",
    "data_raw['avg_email_sent'] = data_raw['avg_email_sent'].abs()\n",
    "\n",
    "# Clean up\n",
    "data_raw.drop(['cumcount', 'cum_purchases', 'cum_emails'], axis=1, inplace=True)\n"
   ]
  },
  {
   "cell_type": "code",
   "execution_count": 12,
   "id": "1bd395ba",
   "metadata": {},
   "outputs": [],
   "source": [
    "# average interval in days between purshase\n",
    "\n",
    "# sort by user_id and sent_at first\n",
    "data_raw = data_raw.sort_values(['user_id', 'sent_at'])\n",
    "\n",
    "# get only purchase rows (purchase == 1)\n",
    "purchase_rows = data_raw[data_raw['purchase'] == 1].copy()\n",
    "\n",
    "# calculate days between consecutive purchases per user\n",
    "purchase_rows['prev_purchase_date'] = purchase_rows.groupby('user_id')['sent_at'].shift(1)\n",
    "purchase_rows['days_since_last_purchase'] = (purchase_rows['sent_at'] - purchase_rows['prev_purchase_date']).dt.days\n",
    "\n",
    "# calculate cumulative average days between purchases per user\n",
    "purchase_rows['purchase_count'] = purchase_rows.groupby('user_id').cumcount() + 1\n",
    "purchase_rows['cumsum_days'] = purchase_rows.groupby('user_id')['days_since_last_purchase'].cumsum()\n",
    "purchase_rows['avg_days_between_purchases'] = purchase_rows['cumsum_days'] / (purchase_rows['purchase_count'] - 1)\n",
    "\n",
    "# handle first purchase (no previous purchase to compare)\n",
    "purchase_rows['avg_days_between_purchases'] = purchase_rows['avg_days_between_purchases'].fillna(0)\n",
    "\n",
    "# merge to original dataframe\n",
    "data_raw['avg_days_between_purchases'] = purchase_rows.set_index(purchase_rows.index)['avg_days_between_purchases']\n",
    "\n",
    "#  fill to propagate the average to all rows for each user\n",
    "data_raw['avg_days_between_purchases'] = data_raw.groupby('user_id')['avg_days_between_purchases'].fillna(method='ffill').fillna(0)"
   ]
  },
  {
   "cell_type": "code",
   "execution_count": 13,
   "id": "21e331cd",
   "metadata": {},
   "outputs": [],
   "source": [
    "#  was the previous discount bigger\n",
    "\n",
    "# sort \n",
    "data_raw = data_raw.sort_values(['user_id', 'sent_at'])\n",
    "\n",
    "# get previous discount% value per user\n",
    "data_raw['prev_discount_value'] = data_raw.groupby('user_id')['discount%'].shift(1)\n",
    "\n",
    "# create prev_discount column: 1 if previous discount is bigger, 0 otherwise\n",
    "data_raw['prev_discount'] = (data_raw['prev_discount_value'] > data_raw['discount%']).astype(int)\n",
    "\n",
    "# handle first row per user (no previous value) - set to 0\n",
    "data_raw['prev_discount'] = data_raw['prev_discount'].fillna(0).astype(int)\n",
    "\n",
    "# clean up helper \n",
    "data_raw.drop('prev_discount_value', axis=1, inplace=True)"
   ]
  },
  {
   "cell_type": "code",
   "execution_count": 14,
   "id": "3ab5b56d",
   "metadata": {},
   "outputs": [],
   "source": [
    "# num of purchase without discount\n",
    "\n",
    "# Sort\n",
    "data_raw = data_raw.sort_values(['user_id', 'sent_at'])\n",
    "\n",
    "# Create a flag for purchases without discount (discount% == 0 and purchase == 1)\n",
    "data_raw['purchase_no_discount'] = ((data_raw['discount%'] == 0) & (data_raw['purchase'] == 1)).astype(int)\n",
    "\n",
    "# Calculate cumulative count of purchases without discount per user\n",
    "data_raw['no_discount'] = data_raw.groupby('user_id')['purchase_no_discount'].cumsum()\n",
    "\n",
    "# Clean up helper column\n",
    "data_raw.drop('purchase_no_discount', axis=1, inplace=True)"
   ]
  },
  {
   "cell_type": "code",
   "execution_count": 15,
   "id": "96043105",
   "metadata": {},
   "outputs": [],
   "source": [
    "# discount with the max amount of purchases\n",
    "\n",
    "\n",
    "\n",
    "data_raw = data_raw.sort_values(['user_id', 'sent_at'])\n",
    "\n",
    "#  Find discount with max purchases per user \n",
    "data_raw['max_purchase_discount'] = data_raw.groupby('user_id').apply(\n",
    "    lambda group: group.apply(\n",
    "        lambda row: group.loc[:row.name][group.loc[:row.name, 'purchase'] == 1]['discount%'].value_counts().idxmax() \n",
    "        if len(group.loc[:row.name][group.loc[:row.name, 'purchase'] == 1]) > 0 else 0, \n",
    "        axis=1\n",
    "    )\n",
    ").values"
   ]
  },
  {
   "cell_type": "code",
   "execution_count": 16,
   "id": "0fa1f36d",
   "metadata": {},
   "outputs": [],
   "source": [
    "# was the purchase the same day year ago\n",
    "\n",
    "# Extract day and month\n",
    "data_raw['day_month'] = data_raw['sent_at'].dt.strftime('%m-%d')\n",
    "\n",
    "# Initialize same_day column\n",
    "data_raw['same_day'] = 0\n",
    "\n",
    "# Only check for purchase rows\n",
    "purchase_mask = data_raw['purchase'] == 1\n",
    "purchase_data = data_raw[purchase_mask].copy()\n",
    "\n",
    "# Group by user and day_month, then check if there are multiple purchases\n",
    "grouped = purchase_data.groupby(['user_id', 'day_month']).apply(\n",
    "    lambda x: x.index[1:] if len(x) > 1 else []\n",
    ").explode()\n",
    "\n",
    "# Set same_day = 1 for indices where there were previous purchases on same day-month\n",
    "data_raw.loc[grouped.dropna(), 'same_day'] = 1\n",
    "\n",
    "# Clean up helper column\n",
    "data_raw.drop('day_month', axis=1, inplace=True)"
   ]
  },
  {
   "cell_type": "code",
   "execution_count": 17,
   "id": "391d4a10",
   "metadata": {},
   "outputs": [],
   "source": [
    "# weekend\n",
    "\n",
    "\n",
    "# Create weekend column: 1 if purchase made on weekend, 0 otherwise\n",
    "data_raw['weekend'] = (\n",
    "    (data_raw['purchase'] == 1) & \n",
    "    (data_raw['sent_at'].dt.weekday >= 5)  # Saturday=5, Sunday=6\n",
    ").astype(int)"
   ]
  },
  {
   "cell_type": "code",
   "execution_count": 18,
   "id": "9dc9129d",
   "metadata": {},
   "outputs": [],
   "source": [
    "#avg a user bought this item before\n",
    "\n",
    "\n",
    "# Count how many times user bought this product before (cumulative count - 1)\n",
    "data_raw['bought_before'] = data_raw.groupby(['user_id', 'product_id']).cumcount()\n"
   ]
  },
  {
   "cell_type": "code",
   "execution_count": 19,
   "id": "46649230",
   "metadata": {},
   "outputs": [],
   "source": [
    "# what was the % discount for this item\n",
    "\n",
    "\n",
    "\n",
    "# Calculate cumulative average discount per product_id per row\n",
    "data_raw['avg_item_discount'] = data_raw.groupby('product_id')['discount%'].transform(lambda x: x.expanding().mean())"
   ]
  },
  {
   "cell_type": "code",
   "execution_count": 20,
   "id": "56f093d3",
   "metadata": {},
   "outputs": [],
   "source": [
    "data_raw.to_csv('../Project_datasets/feature_dataset.csv')"
   ]
  },
  {
   "cell_type": "code",
   "execution_count": 22,
   "id": "0a3c2a54",
   "metadata": {},
   "outputs": [
    {
     "data": {
      "text/plain": [
       "Index(['user_id', 'product_id', 'total_cost_pennies', 'source',\n",
       "       'total_cost_pre_discount_pennies', 'discount%', 'campaign_id',\n",
       "       'sent_at', 'name_campaigns', 'opened_email', 'purchase', 'last_email',\n",
       "       'last_pos_email', 'avg_email_sent', 'avg_days_between_purchases',\n",
       "       'prev_discount', 'no_discount', 'max_purchase_discount', 'same_day',\n",
       "       'weekend', 'bought_before', 'avg_item_discount'],\n",
       "      dtype='object')"
      ]
     },
     "execution_count": 22,
     "metadata": {},
     "output_type": "execute_result"
    }
   ],
   "source": [
    "data_raw.columns"
   ]
  },
  {
   "cell_type": "code",
   "execution_count": null,
   "id": "cbbd5719",
   "metadata": {},
   "outputs": [],
   "source": []
  }
 ],
 "metadata": {
  "kernelspec": {
   "display_name": "Python 3 (ipykernel)",
   "language": "python",
   "name": "python3"
  },
  "language_info": {
   "codemirror_mode": {
    "name": "ipython",
    "version": 3
   },
   "file_extension": ".py",
   "mimetype": "text/x-python",
   "name": "python",
   "nbconvert_exporter": "python",
   "pygments_lexer": "ipython3",
   "version": "3.9.7"
  }
 },
 "nbformat": 4,
 "nbformat_minor": 5
}
