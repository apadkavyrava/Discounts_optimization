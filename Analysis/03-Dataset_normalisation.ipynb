{
 "cells": [
  {
   "cell_type": "code",
   "execution_count": 31,
   "id": "dd5a7eba",
   "metadata": {},
   "outputs": [],
   "source": [
    "#  import packages\n",
    "import numpy as np\n",
    "import pandas as pd\n",
    "import matplotlib.pyplot as plt"
   ]
  },
  {
   "cell_type": "code",
   "execution_count": 24,
   "id": "6d109b68",
   "metadata": {},
   "outputs": [],
   "source": [
    "#  import data\n",
    "data = pd.read_csv('../Project_datasets/feature_dataset.csv')"
   ]
  },
  {
   "cell_type": "code",
   "execution_count": 25,
   "id": "30e64dc7",
   "metadata": {},
   "outputs": [
    {
     "name": "stdout",
     "output_type": "stream",
     "text": [
      "<class 'pandas.core.frame.DataFrame'>\n",
      "RangeIndex: 436577 entries, 0 to 436576\n",
      "Data columns (total 24 columns):\n",
      " #   Column                           Non-Null Count   Dtype  \n",
      "---  ------                           --------------   -----  \n",
      " 0   Unnamed: 0                       436577 non-null  int64  \n",
      " 1   user_id                          436577 non-null  int64  \n",
      " 2   product_id                       436577 non-null  int64  \n",
      " 3   total_cost_pennies               436577 non-null  int64  \n",
      " 4   source                           436577 non-null  int64  \n",
      " 5   total_cost_pre_discount_pennies  436577 non-null  int64  \n",
      " 6   discount%                        436577 non-null  float64\n",
      " 7   campaign_id                      436577 non-null  int64  \n",
      " 8   sent_at                          436577 non-null  object \n",
      " 9   name_campaigns                   436577 non-null  int64  \n",
      " 10  opened_email                     436577 non-null  int64  \n",
      " 11  purchase                         436577 non-null  int64  \n",
      " 12  last_email                       436577 non-null  int64  \n",
      " 13  last_pos_email                   436577 non-null  int64  \n",
      " 14  avg_email_sent                   436577 non-null  float64\n",
      " 15  avg_days_between_purchases       436577 non-null  float64\n",
      " 16  prev_discount                    436577 non-null  int64  \n",
      " 17  no_discount                      436577 non-null  int64  \n",
      " 18  row_num                          436577 non-null  int64  \n",
      " 19  max_purchase_discount            436577 non-null  float64\n",
      " 20  same_day                         436577 non-null  int64  \n",
      " 21  weekend                          436577 non-null  int64  \n",
      " 22  bought_before                    436577 non-null  int64  \n",
      " 23  avg_item_discount                436577 non-null  float64\n",
      "dtypes: float64(5), int64(18), object(1)\n",
      "memory usage: 79.9+ MB\n"
     ]
    }
   ],
   "source": [
    "data.info()"
   ]
  },
  {
   "cell_type": "code",
   "execution_count": 29,
   "id": "67135a29",
   "metadata": {},
   "outputs": [
    {
     "name": "stdout",
     "output_type": "stream",
     "text": [
      "Purchase distribution:\n",
      "0    413926\n",
      "1     22651\n",
      "Name: purchase, dtype: int64\n",
      "\n",
      "Purchase percentage:\n",
      "0    94.811683\n",
      "1     5.188317\n",
      "Name: purchase, dtype: float64\n"
     ]
    },
    {
     "data": {
      "image/png": "[encoded data removed]",
      "text/plain": [
       "<Figure size 432x288 with 1 Axes>"
      ]
     },
     "metadata": {
      "needs_background": "light"
     },
     "output_type": "display_data"
    }
   ],
   "source": [
    "# Check balance of the main target variable\n",
    "print(\"Purchase distribution:\")\n",
    "print(data['purchase'].value_counts())\n",
    "print(\"\\nPurchase percentage:\")\n",
    "print(data['purchase'].value_counts(normalize=True) * 100)\n",
    "\n",
    "# Visual check\n",
    "data['purchase'].value_counts().plot(kind='bar')\n",
    "plt.title('Purchase Distribution')\n",
    "plt.show()"
   ]
  },
  {
   "cell_type": "code",
   "execution_count": 30,
   "id": "65984081",
   "metadata": {},
   "outputs": [
    {
     "data": {
      "image/png": "[encoded data removed]",
      "text/plain": [
       "<Figure size 432x288 with 1 Axes>"
      ]
     },
     "metadata": {
      "needs_background": "light"
     },
     "output_type": "display_data"
    }
   ],
   "source": [
    "discount_counts = data['discount%'].value_counts().sort_index()\n",
    "\n",
    "plt.bar(discount_counts.index, discount_counts.values, alpha=0.7, color='skyblue', edgecolor='black')\n",
    "plt.title('Distribution of Discount%', fontsize=14, fontweight='bold')\n",
    "plt.xlabel('Discount%')\n",
    "plt.ylabel('Count')\n",
    "plt.show()\n"
   ]
  },
  {
   "cell_type": "code",
   "execution_count": 28,
   "id": "1ffb736b",
   "metadata": {},
   "outputs": [
    {
     "data": {
      "text/html": [
       "<div>\n",
       "<style scoped>\n",
       "    .dataframe tbody tr th:only-of-type {\n",
       "        vertical-align: middle;\n",
       "    }\n",
       "\n",
       "    .dataframe tbody tr th {\n",
       "        vertical-align: top;\n",
       "    }\n",
       "\n",
       "    .dataframe thead th {\n",
       "        text-align: right;\n",
       "    }\n",
       "</style>\n",
       "<table border=\"1\" class=\"dataframe\">\n",
       "  <thead>\n",
       "    <tr style=\"text-align: right;\">\n",
       "      <th></th>\n",
       "      <th>discount</th>\n",
       "      <th>ratio</th>\n",
       "    </tr>\n",
       "  </thead>\n",
       "  <tbody>\n",
       "    <tr>\n",
       "      <th>0</th>\n",
       "      <td>0.0</td>\n",
       "      <td>48.86</td>\n",
       "    </tr>\n",
       "    <tr>\n",
       "      <th>1</th>\n",
       "      <td>9.0</td>\n",
       "      <td>0.00</td>\n",
       "    </tr>\n",
       "    <tr>\n",
       "      <th>2</th>\n",
       "      <td>10.0</td>\n",
       "      <td>15.95</td>\n",
       "    </tr>\n",
       "    <tr>\n",
       "      <th>3</th>\n",
       "      <td>12.0</td>\n",
       "      <td>0.01</td>\n",
       "    </tr>\n",
       "  </tbody>\n",
       "</table>\n",
       "</div>"
      ],
      "text/plain": [
       "   discount  ratio\n",
       "0       0.0  48.86\n",
       "1       9.0   0.00\n",
       "2      10.0  15.95\n",
       "3      12.0   0.01"
      ]
     },
     "execution_count": 28,
     "metadata": {},
     "output_type": "execute_result"
    }
   ],
   "source": [
    "# Calculate the distribution\n",
    "discount_distribution = (data['discount%'].value_counts(normalize=True) * 100).sort_index().round(2)\n",
    "\n",
    "# Convert to dataframe and rename columns\n",
    "discount = discount_distribution.reset_index()\n",
    "discount.columns = ['discount', 'ratio']\n",
    "\n",
    "discount.head(4)\n"
   ]
  },
  {
   "cell_type": "markdown",
   "id": "a97a386d",
   "metadata": {},
   "source": [
    "#### Balanced the target values purchases with saving the discount distribution"
   ]
  },
  {
   "cell_type": "code",
   "execution_count": 34,
   "id": "a7706b02",
   "metadata": {},
   "outputs": [
    {
     "name": "stdout",
     "output_type": "stream",
     "text": [
      "Sampled non-purchase count: 22649\n",
      "Purchase count: 22651\n",
      "Final dataset: 45300\n"
     ]
    }
   ],
   "source": [
    "import pandas as pd\n",
    "\n",
    "# Get the target count (same as \"yes\" purchases)\n",
    "target_count = 22651\n",
    "\n",
    "# Filter non-purchase rows\n",
    "non_purchase_data = data_raw[data_raw['purchase'] == 0].copy()\n",
    "purchase_data = data_raw[data_raw['purchase'] == 1].copy()\n",
    "\n",
    "# Calculate how many samples to take from each discount group\n",
    "discount_df['target_samples'] = (discount_df['ratio'] / 100 * target_count).round().astype(int)\n",
    "\n",
    "# Sample from each discount group\n",
    "sampled_dfs = []\n",
    "for _, row in discount_df.iterrows():\n",
    "    discount_val = row['discount']\n",
    "    n_samples = int(row['target_samples'])\n",
    "    \n",
    "    if n_samples > 0:\n",
    "        discount_group = non_purchase_data[non_purchase_data['discount%'] == discount_val]\n",
    "        if len(discount_group) >= n_samples:\n",
    "            sampled = discount_group.sample(n=n_samples, random_state=42)\n",
    "            sampled_dfs.append(sampled)\n",
    "\n",
    "# Combine all sampled non-purchase data\n",
    "sampled_non_purchase = pd.concat(sampled_dfs, ignore_index=True)\n",
    "\n",
    "# Combine with all purchase data\n",
    "balanced_data = pd.concat([sampled_non_purchase, purchase_data], ignore_index=True)\n",
    "\n",
    "print(f\"Sampled non-purchase count: {len(sampled_non_purchase)}\")\n",
    "print(f\"Purchase count: {len(purchase_data)}\")\n",
    "print(f\"Final dataset: {len(balanced_data)}\")"
   ]
  },
  {
   "cell_type": "code",
   "execution_count": 35,
   "id": "89f2603a",
   "metadata": {},
   "outputs": [],
   "source": [
    "balanced_data.to_csv('../Project_datasets/balanced_dataset.csv')"
   ]
  },
  {
   "cell_type": "code",
   "execution_count": null,
   "id": "a1cc3ab8",
   "metadata": {},
   "outputs": [],
   "source": []
  }
 ],
 "metadata": {
  "kernelspec": {
   "display_name": "Python 3 (ipykernel)",
   "language": "python",
   "name": "python3"
  },
  "language_info": {
   "codemirror_mode": {
    "name": "ipython",
    "version": 3
   },
   "file_extension": ".py",
   "mimetype": "text/x-python",
   "name": "python",
   "nbconvert_exporter": "python",
   "pygments_lexer": "ipython3",
   "version": "3.9.7"
  }
 },
 "nbformat": 4,
 "nbformat_minor": 5
}
