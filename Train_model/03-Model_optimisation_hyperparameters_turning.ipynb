{
 "cells": [
  {
   "cell_type": "code",
   "execution_count": 75,
   "id": "7b251931",
   "metadata": {},
   "outputs": [],
   "source": [
    "import pandas as pd\n",
    "import numpy as np\n",
    "\n",
    "from sklearn.model_selection import train_test_split\n",
    "import xgboost as xgb\n",
    "from sklearn.metrics import accuracy_score, classification_report, confusion_matrix\n",
    "\n",
    "from sklearn.metrics import recall_score, make_scorer\n",
    "\n",
    "from sklearn.model_selection import GridSearchCV\n",
    "from sklearn.model_selection import RandomizedSearchCV\n",
    "\n",
    "import json\n"
   ]
  },
  {
   "cell_type": "markdown",
   "id": "904dd6d6",
   "metadata": {},
   "source": [
    "### Download XGBoost model with selected features for optimisation"
   ]
  },
  {
   "cell_type": "code",
   "execution_count": 65,
   "id": "adb88e66",
   "metadata": {},
   "outputs": [],
   "source": [
    "data = pd.read_csv('../Project_datasets/reduced_dataset.csv')"
   ]
  },
  {
   "cell_type": "code",
   "execution_count": 66,
   "id": "e3dcabbd",
   "metadata": {},
   "outputs": [],
   "source": [
    "X = data.drop(['purchase'], axis=1)\n",
    "y = data['purchase']"
   ]
  },
  {
   "cell_type": "code",
   "execution_count": 67,
   "id": "44025b23",
   "metadata": {},
   "outputs": [],
   "source": [
    "# Split the data into training and testing sets\n",
    "# This splits into 70% train, 30% test by default\n",
    "X_train, X_test, y_train, y_test = train_test_split(X, y, test_size=0.2, random_state=42)"
   ]
  },
  {
   "cell_type": "code",
   "execution_count": 68,
   "id": "b6db2d32",
   "metadata": {},
   "outputs": [
    {
     "name": "stdout",
     "output_type": "stream",
     "text": [
      "\n",
      "Accuracy with XGBoost importance selected features: 0.9276\n",
      "\n",
      "Classification Report:\n",
      "              precision    recall  f1-score   support\n",
      "\n",
      "           0       0.92      0.94      0.93      4507\n",
      "           1       0.94      0.92      0.93      4553\n",
      "\n",
      "    accuracy                           0.93      9060\n",
      "   macro avg       0.93      0.93      0.93      9060\n",
      "weighted avg       0.93      0.93      0.93      9060\n",
      "\n",
      "\n",
      "Confusion Matrix:\n",
      "[[4218  289]\n",
      " [ 367 4186]]\n"
     ]
    }
   ],
   "source": [
    "# Create XGBoost classifier\n",
    "model = xgb.XGBClassifier(random_state=42)\n",
    "\n",
    "# Train model\n",
    "model.fit(X_train, y_train)\n",
    "\n",
    "# Make predictions\n",
    "y_pred = model.predict(X_test)\n",
    "\n",
    "# Evaluate\n",
    "accuracy = accuracy_score(y_test, y_pred)\n",
    "print(f\"\\nAccuracy with XGBoost importance selected features: {accuracy:.4f}\")\n",
    "\n",
    "print(\"\\nClassification Report:\")\n",
    "print(classification_report(y_test, y_pred))\n",
    "\n",
    "print(\"\\nConfusion Matrix:\")\n",
    "print(confusion_matrix(y_test, y_pred))\n"
   ]
  },
  {
   "cell_type": "markdown",
   "id": "7b7ccaba",
   "metadata": {},
   "source": [
    "### Hyperparamenters turning"
   ]
  },
  {
   "cell_type": "code",
   "execution_count": 72,
   "id": "22f1995f",
   "metadata": {},
   "outputs": [],
   "source": [
    "# Custom scorer that focuses only on recall for class 1 (responders)\n",
    "custom_recall_scorer = make_scorer(recall_score, pos_label=1)\n",
    "\n",
    "# Parameter grid -- random generated numbers\n",
    "param = {\n",
    "    'max_depth': [3, 6, 8],\n",
    "    'learning_rate': [0.05, 0.1, 0.2],\n",
    "    'n_estimators': [100, 200, 300],\n",
    "    'subsample': [0.8, 1.0],\n",
    "    'colsample_bytree': [0.8, 1.0],\n",
    "    'gamma': [0, 1],\n",
    "    'min_child_weight': [1, 3, 5]\n",
    "}"
   ]
  },
  {
   "cell_type": "markdown",
   "id": "f7aed494",
   "metadata": {},
   "source": [
    "###### GridSearchCV"
   ]
  },
  {
   "cell_type": "code",
   "execution_count": 73,
   "id": "c1483245",
   "metadata": {},
   "outputs": [
    {
     "name": "stdout",
     "output_type": "stream",
     "text": [
      "Fitting 3 folds for each of 648 candidates, totalling 1944 fits\n"
     ]
    },
    {
     "name": "stderr",
     "output_type": "stream",
     "text": [
      "/Users/anna/opt/anaconda3/lib/python3.9/site-packages/joblib/externals/loky/process_executor.py:702: UserWarning: A worker stopped while some jobs were given to the executor. This can be caused by a too short worker timeout or by a memory leak.\n",
      "  warnings.warn(\n"
     ]
    },
    {
     "name": "stdout",
     "output_type": "stream",
     "text": [
      "Best Parameters: {'colsample_bytree': 1.0, 'gamma': 0, 'learning_rate': 0.2, 'max_depth': 8, 'min_child_weight': 3, 'n_estimators': 300, 'subsample': 0.8}\n",
      "\n",
      "Classification Report:\n",
      "              precision    recall  f1-score   support\n",
      "\n",
      "           0       0.93      0.94      0.93      4507\n",
      "           1       0.94      0.93      0.93      4553\n",
      "\n",
      "    accuracy                           0.93      9060\n",
      "   macro avg       0.93      0.93      0.93      9060\n",
      "weighted avg       0.93      0.93      0.93      9060\n",
      "\n",
      "\n",
      "Confusion Matrix:\n",
      "[[4220  287]\n",
      " [ 339 4214]]\n"
     ]
    }
   ],
   "source": [
    "# GridSearchCV with the custom recall scorer\n",
    "grid_search = GridSearchCV(\n",
    "    estimator=model,\n",
    "    param_grid=param,\n",
    "    scoring=custom_recall_scorer,\n",
    "    cv=3,\n",
    "    verbose=1,\n",
    "    n_jobs=-1\n",
    ")\n",
    "\n",
    "# Fit to training data\n",
    "grid_search.fit(X_train, y_train)\n",
    "\n",
    "# Get the best model\n",
    "best_model = grid_search.best_estimator_\n",
    "\n",
    "# Accuracy\n",
    "y_pred = best_model.predict(X_test)\n",
    "print(\"Best Parameters:\", grid_search.best_params_)\n",
    "print(\"\\nClassification Report:\")\n",
    "print(classification_report(y_test, y_pred))\n",
    "print(\"\\nConfusion Matrix:\")\n",
    "print(confusion_matrix(y_test, y_pred))"
   ]
  },
  {
   "cell_type": "markdown",
   "id": "dab9a878",
   "metadata": {},
   "source": [
    "###### RandomizedSearchCV"
   ]
  },
  {
   "cell_type": "code",
   "execution_count": 74,
   "id": "eadb132c",
   "metadata": {},
   "outputs": [
    {
     "name": "stdout",
     "output_type": "stream",
     "text": [
      "Fitting 3 folds for each of 30 candidates, totalling 90 fits\n",
      "Best Parameters: {'subsample': 0.8, 'n_estimators': 300, 'min_child_weight': 3, 'max_depth': 6, 'learning_rate': 0.2, 'gamma': 1, 'colsample_bytree': 0.8}\n",
      "\n",
      "Classification Report:\n",
      "              precision    recall  f1-score   support\n",
      "\n",
      "           0       0.92      0.93      0.93      4507\n",
      "           1       0.93      0.92      0.93      4553\n",
      "\n",
      "    accuracy                           0.93      9060\n",
      "   macro avg       0.93      0.93      0.93      9060\n",
      "weighted avg       0.93      0.93      0.93      9060\n",
      "\n",
      "\n",
      "Confusion Matrix:\n",
      "[[4203  304]\n",
      " [ 355 4198]]\n"
     ]
    }
   ],
   "source": [
    "# RandomizedSearchCV ith the custom recall scorer\n",
    "\n",
    "random_search = RandomizedSearchCV(\n",
    "    estimator=model,\n",
    "    param_distributions=param,\n",
    "    n_iter=30,  \n",
    "    scoring=custom_recall_scorer,\n",
    "    cv=3,\n",
    "    verbose=1,\n",
    "    random_state=42,\n",
    "    n_jobs=-1\n",
    ")\n",
    "\n",
    "# Fit the randomized search\n",
    "random_search.fit(X_train, y_train)\n",
    "\n",
    "#  Best model\n",
    "best_model = random_search.best_estimator_\n",
    "\n",
    "# Accuracy\n",
    "\n",
    "y_pred = best_model.predict(X_test)\n",
    "print(\"Best Parameters:\", random_search.best_params_)\n",
    "print(\"\\nClassification Report:\")\n",
    "print(classification_report(y_test, y_pred))\n",
    "print(\"\\nConfusion Matrix:\")\n",
    "print(confusion_matrix(y_test, y_pred))\n"
   ]
  },
  {
   "cell_type": "markdown",
   "id": "e5fc9af5",
   "metadata": {},
   "source": [
    "#### Chose the Search and save into dict"
   ]
  },
  {
   "cell_type": "code",
   "execution_count": 76,
   "id": "b2e0d496",
   "metadata": {},
   "outputs": [],
   "source": [
    "with open('../Project_datasets/best_xgb_params.json', 'w') as f:\n",
    "    json.dump(grid_search.best_params_, f)"
   ]
  },
  {
   "cell_type": "code",
   "execution_count": null,
   "id": "d8b95a23",
   "metadata": {},
   "outputs": [],
   "source": []
  }
 ],
 "metadata": {
  "kernelspec": {
   "display_name": "Python 3 (ipykernel)",
   "language": "python",
   "name": "python3"
  },
  "language_info": {
   "codemirror_mode": {
    "name": "ipython",
    "version": 3
   },
   "file_extension": ".py",
   "mimetype": "text/x-python",
   "name": "python",
   "nbconvert_exporter": "python",
   "pygments_lexer": "ipython3",
   "version": "3.9.7"
  }
 },
 "nbformat": 4,
 "nbformat_minor": 5
}
