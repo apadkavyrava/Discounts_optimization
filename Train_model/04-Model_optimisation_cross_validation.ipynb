{
 "cells": [
  {
   "cell_type": "code",
   "execution_count": 18,
   "id": "bcae9ff3",
   "metadata": {},
   "outputs": [],
   "source": [
    "import pandas as pd\n",
    "import numpy as np\n",
    "import json\n",
    "\n",
    "from sklearn.model_selection import train_test_split\n",
    "import xgboost as xgb\n",
    "from sklearn.metrics import accuracy_score, classification_report, confusion_matrix\n",
    "from sklearn.metrics import recall_score\n",
    "\n",
    "from sklearn.model_selection import StratifiedKFold\n",
    "from sklearn.model_selection import ShuffleSplit\n",
    "\n",
    "\n"
   ]
  },
  {
   "cell_type": "markdown",
   "id": "baa130fd",
   "metadata": {},
   "source": [
    "### Download data and hyperparameters, run initial model"
   ]
  },
  {
   "cell_type": "code",
   "execution_count": 6,
   "id": "81079764",
   "metadata": {},
   "outputs": [],
   "source": [
    "data = pd.read_csv('../Project_datasets/reduced_dataset.csv')\n",
    "\n",
    "X = data.drop(['purchase'], axis=1)\n",
    "y = data['purchase']\n",
    "\n",
    "\n",
    "with open('../Project_datasets/best_xgb_params.json', 'r') as f:\n",
    "    best_params = json.load(f)\n"
   ]
  },
  {
   "cell_type": "code",
   "execution_count": 7,
   "id": "8fd3efce",
   "metadata": {},
   "outputs": [],
   "source": [
    "# Split the data into training and testing sets\n",
    "# This splits into 70% train, 30% test by default\n",
    "X_train, X_test, y_train, y_test = train_test_split(X, y, test_size=0.2, random_state=42)"
   ]
  },
  {
   "cell_type": "code",
   "execution_count": 8,
   "id": "48316e5a",
   "metadata": {},
   "outputs": [
    {
     "data": {
      "text/plain": [
       "XGBClassifier(base_score=None, booster=None, callbacks=None,\n",
       "              colsample_bylevel=None, colsample_bynode=None,\n",
       "              colsample_bytree=1.0, device=None, early_stopping_rounds=None,\n",
       "              enable_categorical=False, eval_metric=None, feature_types=None,\n",
       "              gamma=0, grow_policy=None, importance_type=None,\n",
       "              interaction_constraints=None, learning_rate=0.2, max_bin=None,\n",
       "              max_cat_threshold=None, max_cat_to_onehot=None,\n",
       "              max_delta_step=None, max_depth=8, max_leaves=None,\n",
       "              min_child_weight=3, missing=nan, monotone_constraints=None,\n",
       "              multi_strategy=None, n_estimators=300, n_jobs=None,\n",
       "              num_parallel_tree=None, random_state=None, ...)"
      ]
     },
     "execution_count": 8,
     "metadata": {},
     "output_type": "execute_result"
    }
   ],
   "source": [
    "model = xgb.XGBClassifier(**best_params)\n",
    "model.fit(X_train, y_train)"
   ]
  },
  {
   "cell_type": "code",
   "execution_count": 9,
   "id": "ec3f5b5f",
   "metadata": {},
   "outputs": [
    {
     "name": "stdout",
     "output_type": "stream",
     "text": [
      "\n",
      "Accuracy with XGBoost importance selected features: 0.9304\n",
      "\n",
      "Classification Report:\n",
      "              precision    recall  f1-score   support\n",
      "\n",
      "           0       0.93      0.94      0.93      4507\n",
      "           1       0.94      0.93      0.93      4553\n",
      "\n",
      "    accuracy                           0.93      9060\n",
      "   macro avg       0.93      0.93      0.93      9060\n",
      "weighted avg       0.93      0.93      0.93      9060\n",
      "\n",
      "\n",
      "Confusion Matrix:\n",
      "[[4215  292]\n",
      " [ 339 4214]]\n"
     ]
    }
   ],
   "source": [
    "# Make predictions\n",
    "y_pred = model.predict(X_test)\n",
    "\n",
    "# Evaluate\n",
    "accuracy = accuracy_score(y_test, y_pred)\n",
    "print(f\"\\nAccuracy with XGBoost importance selected features: {accuracy:.4f}\")\n",
    "\n",
    "print(\"\\nClassification Report:\")\n",
    "print(classification_report(y_test, y_pred))\n",
    "\n",
    "print(\"\\nConfusion Matrix:\")\n",
    "print(confusion_matrix(y_test, y_pred))\n"
   ]
  },
  {
   "cell_type": "markdown",
   "id": "91b1fedd",
   "metadata": {},
   "source": [
    "### Cross-validation"
   ]
  },
  {
   "cell_type": "markdown",
   "id": "a4313467",
   "metadata": {},
   "source": [
    "###### 10 folders with different train-test split ration"
   ]
  },
  {
   "cell_type": "code",
   "execution_count": 17,
   "id": "fa889e6a",
   "metadata": {},
   "outputs": [
    {
     "name": "stdout",
     "output_type": "stream",
     "text": [
      "\n",
      "--- Fold 1 ---\n",
      "Train recall: 0.987981358842286\n",
      "Test recall : 0.9240953221535746\n",
      "\n",
      "--- Fold 2 ---\n",
      "Train recall: 0.9872461493181596\n",
      "Test recall : 0.928476821192053\n",
      "\n",
      "--- Fold 3 ---\n",
      "Train recall: 0.9870499362307465\n",
      "Test recall : 0.9134657836644592\n",
      "\n",
      "--- Fold 4 ---\n",
      "Train recall: 0.9872461493181596\n",
      "Test recall : 0.9249448123620309\n",
      "\n",
      "--- Fold 5 ---\n",
      "Train recall: 0.9876876287648386\n",
      "Test recall : 0.9311258278145695\n",
      "\n",
      "--- Fold 6 ---\n",
      "Train recall: 0.9875404689492789\n",
      "Test recall : 0.937748344370861\n",
      "\n",
      "--- Fold 7 ---\n",
      "Train recall: 0.9880800549396644\n",
      "Test recall : 0.9222958057395143\n",
      "\n",
      "--- Fold 8 ---\n",
      "Train recall: 0.9878838418522515\n",
      "Test recall : 0.9328918322295806\n",
      "\n",
      "--- Fold 9 ---\n",
      "Train recall: 0.9881291082115177\n",
      "Test recall : 0.9368653421633554\n",
      "\n",
      "--- Fold 10 ---\n",
      "Train recall: 0.9886196409300501\n",
      "Test recall : 0.9253863134657837\n"
     ]
    }
   ],
   "source": [
    "# Create StratifiedKFold model\n",
    "skf = StratifiedKFold(n_splits=10, shuffle=True, random_state=42)\n",
    "\n",
    "accuracies = []\n",
    "\n",
    "# 10-fold cross-validation\n",
    "for fold, (train_index, test_index) in enumerate(skf.split(X, y), 1):\n",
    "    \n",
    "    X_train, X_test = X.iloc[train_index], X.iloc[test_index]\n",
    "    y_train, y_test = y.iloc[train_index], y.iloc[test_index]\n",
    "\n",
    "    # Model train\n",
    "    model.fit(X_train, y_train)\n",
    "    \n",
    "    \n",
    "    model.fit(X_train, y_train)\n",
    "\n",
    "    # Predictions\n",
    "    y_train_pred = model.predict(X_train)\n",
    "    y_test_pred = model.predict(X_test)\n",
    "\n",
    "    # Evaluation\n",
    "    print(f\"\\n--- Fold {fold} ---\")\n",
    "    print(\"Train recall:\", recall_score(y_train, y_train_pred, pos_label=1))\n",
    "    print(\"Test recall :\", recall_score(y_test, y_test_pred, pos_label=1))\n",
    "\n",
    "\n"
   ]
  },
  {
   "cell_type": "markdown",
   "id": "b2b5ef83",
   "metadata": {},
   "source": [
    "###### 10 folders with different data samples with constant train-test split 70/30"
   ]
  },
  {
   "cell_type": "code",
   "execution_count": 19,
   "id": "746edf06",
   "metadata": {},
   "outputs": [
    {
     "name": "stdout",
     "output_type": "stream",
     "text": [
      "\n",
      "--- Bucket 1 ---\n",
      "Train recall: 0.9915\n",
      "Test recall : 0.9214\n",
      "\n",
      "--- Bucket 2 ---\n",
      "Train recall: 0.9910\n",
      "Test recall : 0.9213\n",
      "\n",
      "--- Bucket 3 ---\n",
      "Train recall: 0.9917\n",
      "Test recall : 0.9204\n",
      "\n",
      "--- Bucket 4 ---\n",
      "Train recall: 0.9918\n",
      "Test recall : 0.9217\n",
      "\n",
      "--- Bucket 5 ---\n",
      "Train recall: 0.9907\n",
      "Test recall : 0.9265\n",
      "\n",
      "--- Bucket 6 ---\n",
      "Train recall: 0.9905\n",
      "Test recall : 0.9273\n",
      "\n",
      "--- Bucket 7 ---\n",
      "Train recall: 0.9913\n",
      "Test recall : 0.9244\n",
      "\n",
      "--- Bucket 8 ---\n",
      "Train recall: 0.9911\n",
      "Test recall : 0.9253\n",
      "\n",
      "--- Bucket 9 ---\n",
      "Train recall: 0.9905\n",
      "Test recall : 0.9249\n",
      "\n",
      "--- Bucket 10 ---\n",
      "Train recall: 0.9915\n",
      "Test recall : 0.9193\n",
      "\n",
      "Average Train Recall: 0.9912\n",
      "Average Test Recall : 0.9232\n"
     ]
    }
   ],
   "source": [
    "# Random 70/30 split\n",
    "rs = ShuffleSplit(n_splits=10, test_size=0.3, train_size=0.7, random_state=42)\n",
    "\n",
    "train_recalls = []\n",
    "test_recalls = []\n",
    "\n",
    "for i, (train_idx, test_idx) in enumerate(rs.split(X, y), 1):\n",
    "    X_train, X_test = X.iloc[train_idx], X.iloc[test_idx]\n",
    "    y_train, y_test = y.iloc[train_idx], y.iloc[test_idx]\n",
    "    \n",
    "    model.fit(X_train, y_train)\n",
    "    \n",
    "    y_train_pred = model.predict(X_train)\n",
    "    y_test_pred = model.predict(X_test)\n",
    "    \n",
    "    train_recall = recall_score(y_train, y_train_pred, pos_label=1)\n",
    "    test_recall = recall_score(y_test, y_test_pred, pos_label=1)\n",
    "    \n",
    "    train_recalls.append(train_recall)\n",
    "    test_recalls.append(test_recall)\n",
    "    \n",
    "    print(f\"\\n--- Bucket {i} ---\")\n",
    "    print(f\"Train recall: {train_recall:.4f}\")\n",
    "    print(f\"Test recall : {test_recall:.4f}\")\n",
    "\n",
    "# Summary\n",
    "print(f\"\\nAverage Train Recall: {np.mean(train_recalls):.4f}\")\n",
    "print(f\"Average Test Recall : {np.mean(test_recalls):.4f}\")\n"
   ]
  },
  {
   "cell_type": "code",
   "execution_count": 21,
   "id": "1e632ca8",
   "metadata": {},
   "outputs": [],
   "source": [
    "# Save the model to file\n",
    "model.save_model(\"../Models/xgb_model.json\")  \n",
    "\n"
   ]
  },
  {
   "cell_type": "code",
   "execution_count": null,
   "id": "58add88d",
   "metadata": {},
   "outputs": [],
   "source": []
  }
 ],
 "metadata": {
  "kernelspec": {
   "display_name": "Python 3 (ipykernel)",
   "language": "python",
   "name": "python3"
  },
  "language_info": {
   "codemirror_mode": {
    "name": "ipython",
    "version": 3
   },
   "file_extension": ".py",
   "mimetype": "text/x-python",
   "name": "python",
   "nbconvert_exporter": "python",
   "pygments_lexer": "ipython3",
   "version": "3.9.7"
  }
 },
 "nbformat": 4,
 "nbformat_minor": 5
}
